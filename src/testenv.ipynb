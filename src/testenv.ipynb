{
 "cells": [
  {
   "metadata": {},
   "cell_type": "markdown",
   "source": "# Test Environment",
   "id": "d393580aa9707cae"
  },
  {
   "metadata": {},
   "cell_type": "markdown",
   "source": "## Imports",
   "id": "c987366fc0f61352"
  },
  {
   "metadata": {
    "ExecuteTime": {
     "end_time": "2025-04-08T17:08:31.082044Z",
     "start_time": "2025-04-08T17:08:28.062099Z"
    }
   },
   "cell_type": "code",
   "source": [
    "from operator import index\n",
    "\n",
    "import pandas as pd\n",
    "import random as rnd\n",
    "\n",
    "from configurations import Config\n",
    "from exercise_repository import ExerciseRepository\n",
    "from defaults import Defaults\n",
    "from timer import Timer\n",
    "from map_elites import MapElites\n",
    "from chromosome import Chromosome\n",
    "from schedule import Schedule\n",
    "from gene import Gene\n",
    "from exercise import Exercise\n",
    "from weight_loss_difference import WeightLossDifference"
   ],
   "id": "9d4838587f1e2502",
   "outputs": [
    {
     "ename": "ImportError",
     "evalue": "cannot import name 'CsvManager' from 'csv_manager' (D:\\Projects\\honours-project\\calorieBurnoutSchedule\\src\\csv_manager.py)",
     "output_type": "error",
     "traceback": [
      "\u001B[1;31m---------------------------------------------------------------------------\u001B[0m",
      "\u001B[1;31mImportError\u001B[0m                               Traceback (most recent call last)",
      "Cell \u001B[1;32mIn[1], line 10\u001B[0m\n\u001B[0;32m      8\u001B[0m \u001B[38;5;28;01mfrom\u001B[39;00m \u001B[38;5;21;01mdefaults\u001B[39;00m \u001B[38;5;28;01mimport\u001B[39;00m Defaults\n\u001B[0;32m      9\u001B[0m \u001B[38;5;28;01mfrom\u001B[39;00m \u001B[38;5;21;01mtimer\u001B[39;00m \u001B[38;5;28;01mimport\u001B[39;00m Timer\n\u001B[1;32m---> 10\u001B[0m \u001B[38;5;28;01mfrom\u001B[39;00m \u001B[38;5;21;01mmap_elites\u001B[39;00m \u001B[38;5;28;01mimport\u001B[39;00m MapElites\n\u001B[0;32m     11\u001B[0m \u001B[38;5;28;01mfrom\u001B[39;00m \u001B[38;5;21;01mchromosome\u001B[39;00m \u001B[38;5;28;01mimport\u001B[39;00m Chromosome\n\u001B[0;32m     12\u001B[0m \u001B[38;5;28;01mfrom\u001B[39;00m \u001B[38;5;21;01mschedule\u001B[39;00m \u001B[38;5;28;01mimport\u001B[39;00m Schedule\n",
      "File \u001B[1;32mD:\\Projects\\honours-project\\calorieBurnoutSchedule\\src\\map_elites.py:7\u001B[0m\n\u001B[0;32m      1\u001B[0m \u001B[38;5;66;03m# import numpy as np\u001B[39;00m\n\u001B[0;32m      2\u001B[0m \u001B[38;5;66;03m# import random as rnd\u001B[39;00m\n\u001B[0;32m      3\u001B[0m \u001B[38;5;66;03m#\u001B[39;00m\n\u001B[0;32m      4\u001B[0m \u001B[38;5;66;03m# from configurations import *\u001B[39;00m\n\u001B[0;32m      5\u001B[0m \u001B[38;5;66;03m# from chromosome import *\u001B[39;00m\n\u001B[0;32m      6\u001B[0m \u001B[38;5;66;03m# from parameters import *\u001B[39;00m\n\u001B[1;32m----> 7\u001B[0m \u001B[38;5;28;01mfrom\u001B[39;00m \u001B[38;5;21;01mresults\u001B[39;00m \u001B[38;5;28;01mimport\u001B[39;00m Results\n\u001B[0;32m      8\u001B[0m \u001B[38;5;28;01mfrom\u001B[39;00m \u001B[38;5;21;01mschedule\u001B[39;00m \u001B[38;5;28;01mimport\u001B[39;00m \u001B[38;5;241m*\u001B[39m\n\u001B[0;32m     11\u001B[0m \u001B[38;5;28;01mclass\u001B[39;00m \u001B[38;5;21;01mMapElites\u001B[39;00m:\n",
      "File \u001B[1;32mD:\\Projects\\honours-project\\calorieBurnoutSchedule\\src\\results.py:10\u001B[0m\n\u001B[0;32m      8\u001B[0m \u001B[38;5;28;01mfrom\u001B[39;00m \u001B[38;5;21;01mparameters\u001B[39;00m \u001B[38;5;28;01mimport\u001B[39;00m \u001B[38;5;241m*\u001B[39m\n\u001B[0;32m      9\u001B[0m \u001B[38;5;28;01mfrom\u001B[39;00m \u001B[38;5;21;01mschedule\u001B[39;00m \u001B[38;5;28;01mimport\u001B[39;00m Schedule\n\u001B[1;32m---> 10\u001B[0m \u001B[38;5;28;01mfrom\u001B[39;00m \u001B[38;5;21;01mcsv_manager\u001B[39;00m \u001B[38;5;28;01mimport\u001B[39;00m CsvManager\n\u001B[0;32m     11\u001B[0m \u001B[38;5;28;01mfrom\u001B[39;00m \u001B[38;5;21;01mmatplotlib\u001B[39;00m\u001B[38;5;21;01m.\u001B[39;00m\u001B[38;5;21;01mcolors\u001B[39;00m \u001B[38;5;28;01mimport\u001B[39;00m LinearSegmentedColormap\n\u001B[0;32m     13\u001B[0m \u001B[38;5;28;01mclass\u001B[39;00m \u001B[38;5;21;01mResults\u001B[39;00m:\n",
      "\u001B[1;31mImportError\u001B[0m: cannot import name 'CsvManager' from 'csv_manager' (D:\\Projects\\honours-project\\calorieBurnoutSchedule\\src\\csv_manager.py)"
     ]
    }
   ],
   "execution_count": 1
  },
  {
   "metadata": {},
   "cell_type": "markdown",
   "source": "## Input Parameters",
   "id": "72e1e64c56ac0d27"
  },
  {
   "metadata": {
    "ExecuteTime": {
     "end_time": "2025-04-08T17:08:31.153434600Z",
     "start_time": "2025-04-06T14:16:11.786443Z"
    }
   },
   "cell_type": "code",
   "source": [
    "# Test data\n",
    "chubby = {\"initial_weight\": 124, \"target_weight\": 64, \"period\": 12}\n",
    "bob = {\"initial_weight\": 200, \"target_weight\": 70, \"period\": 7*4*12*2}\n",
    "tania = {\"initial_weight\": 60, \"target_weight\": 50, \"period\": 12}\n",
    "paul = {\"initial_weight\": 80, \"target_weight\": 55, \"period\": 7*4*12}\n",
    "timmy = {\"initial_weight\": 70, \"target_weight\": 55, \"period\": 7*4*5}\n",
    "\n",
    "# Chosen data\n",
    "data = bob\n",
    "\n",
    "# Show data\n",
    "pd.DataFrame(\n",
    "    [chubby, bob, tania, paul, timmy],\n",
    "    index=[x.capitalize() for x in [\"chubby\", \"bob\", \"tania\", \"paul\", \"timmy\"]]\n",
    ")"
   ],
   "id": "fded2b829309c9c",
   "outputs": [
    {
     "data": {
      "text/plain": [
       "        initial_weight  target_weight  period\n",
       "Chubby             124             64      12\n",
       "Bob                200             70     672\n",
       "Tania               60             50      12\n",
       "Paul                80             55     336\n",
       "Timmy               70             55     140"
      ],
      "text/html": [
       "<div>\n",
       "<style scoped>\n",
       "    .dataframe tbody tr th:only-of-type {\n",
       "        vertical-align: middle;\n",
       "    }\n",
       "\n",
       "    .dataframe tbody tr th {\n",
       "        vertical-align: top;\n",
       "    }\n",
       "\n",
       "    .dataframe thead th {\n",
       "        text-align: right;\n",
       "    }\n",
       "</style>\n",
       "<table border=\"1\" class=\"dataframe\">\n",
       "  <thead>\n",
       "    <tr style=\"text-align: right;\">\n",
       "      <th></th>\n",
       "      <th>initial_weight</th>\n",
       "      <th>target_weight</th>\n",
       "      <th>period</th>\n",
       "    </tr>\n",
       "  </thead>\n",
       "  <tbody>\n",
       "    <tr>\n",
       "      <th>Chubby</th>\n",
       "      <td>124</td>\n",
       "      <td>64</td>\n",
       "      <td>12</td>\n",
       "    </tr>\n",
       "    <tr>\n",
       "      <th>Bob</th>\n",
       "      <td>200</td>\n",
       "      <td>70</td>\n",
       "      <td>672</td>\n",
       "    </tr>\n",
       "    <tr>\n",
       "      <th>Tania</th>\n",
       "      <td>60</td>\n",
       "      <td>50</td>\n",
       "      <td>12</td>\n",
       "    </tr>\n",
       "    <tr>\n",
       "      <th>Paul</th>\n",
       "      <td>80</td>\n",
       "      <td>55</td>\n",
       "      <td>336</td>\n",
       "    </tr>\n",
       "    <tr>\n",
       "      <th>Timmy</th>\n",
       "      <td>70</td>\n",
       "      <td>55</td>\n",
       "      <td>140</td>\n",
       "    </tr>\n",
       "  </tbody>\n",
       "</table>\n",
       "</div>"
      ]
     },
     "execution_count": 2,
     "metadata": {},
     "output_type": "execute_result"
    }
   ],
   "execution_count": 2
  },
  {
   "metadata": {},
   "cell_type": "markdown",
   "source": "## Exercise Repository",
   "id": "3230f17814583572"
  },
  {
   "metadata": {
    "ExecuteTime": {
     "end_time": "2025-04-08T17:08:31.153434600Z",
     "start_time": "2025-04-06T14:16:11.862977Z"
    }
   },
   "cell_type": "code",
   "source": [
    "repo = ExerciseRepository(Defaults.SMALL_COMPENDIUM_PATH)\n",
    "print(repo)"
   ],
   "id": "bb146d719a82605b",
   "outputs": [
    {
     "name": "stdout",
     "output_type": "stream",
     "text": [
      "EXERCISE REPOSITORY:\n",
      "         Size: 96\n",
      "    MET Range: 1 - 15\n",
      "      Columns: ['idx', 'name', 'met', 'tags']\n",
      "\n"
     ]
    }
   ],
   "execution_count": 3
  },
  {
   "metadata": {
    "ExecuteTime": {
     "end_time": "2025-04-08T17:08:31.153434600Z",
     "start_time": "2025-04-06T14:16:11.946431Z"
    }
   },
   "cell_type": "code",
   "source": "repo.item_at(rnd.choice(range(repo.size())))",
   "id": "e753dbc6df608db0",
   "outputs": [
    {
     "data": {
      "text/plain": [
       "idx                      0\n",
       "name    Bicycling, general\n",
       "met                    7.0\n",
       "tags             Bicycling\n",
       "Name: 0, dtype: object"
      ]
     },
     "execution_count": 4,
     "metadata": {},
     "output_type": "execute_result"
    }
   ],
   "execution_count": 4
  },
  {
   "metadata": {},
   "cell_type": "markdown",
   "source": "## Configurations",
   "id": "63c9352672990c69"
  },
  {
   "metadata": {
    "ExecuteTime": {
     "end_time": "2025-04-08T17:08:31.153434600Z",
     "start_time": "2025-04-06T14:16:11.985858Z"
    }
   },
   "cell_type": "code",
   "source": [
    "config = Config(data[\"initial_weight\"], data[\"target_weight\"], data[\"period\"])\n",
    "print(config)"
   ],
   "id": "e0549d3abf9eef12",
   "outputs": [
    {
     "name": "stdout",
     "output_type": "stream",
     "text": [
      "CONFIGURATIONS:\n",
      "Number of Map Bins: 20\n",
      "EXERCISE REPOSITORY:\n",
      "         Size: 515\n",
      "    MET Range: 1 - 23\n",
      "      Columns: ['idx', 'name', 'met', 'tags']\n",
      "\n",
      "Initial Weight: 200\n",
      "Target Weight: 70\n",
      "Period: 672\n",
      "Exercise Index Range: range(0, 515)\n",
      "Exercise Duration Range: range(15, 721, 15)\n",
      "Daily Duration Range: range(0, 481)\n",
      "Daily Duration Count Range: range(10, 11)\n",
      "Base10 Schedule Range: range(1, 128)\n",
      "\n"
     ]
    }
   ],
   "execution_count": 5
  },
  {
   "metadata": {},
   "cell_type": "markdown",
   "source": "## Timer",
   "id": "35882649726f3c40"
  },
  {
   "metadata": {
    "ExecuteTime": {
     "end_time": "2025-04-08T17:08:31.153434600Z",
     "start_time": "2025-04-06T14:21:14.719245Z"
    }
   },
   "cell_type": "code",
   "source": [
    "t = Timer()\n",
    "\n",
    "i = 0\n",
    "\n",
    "t.start()\n",
    "for _ in range(rnd.randint(100000,500000)):\n",
    "    i  += 1\n",
    "    print(f\"\\r{i}\", end='')\n",
    "    \n",
    "t.stop()\n",
    "t.get_result()"
   ],
   "id": "e73a350cf0e1d82",
   "outputs": [
    {
     "name": "stdout",
     "output_type": "stream",
     "text": [
      "141792"
     ]
    },
    {
     "data": {
      "text/plain": [
       "0.2"
      ]
     },
     "execution_count": 48,
     "metadata": {},
     "output_type": "execute_result"
    }
   ],
   "execution_count": 48
  },
  {
   "metadata": {},
   "cell_type": "markdown",
   "source": "## Gene",
   "id": "1f686601346feeb"
  },
  {
   "metadata": {
    "ExecuteTime": {
     "end_time": "2025-04-08T17:08:31.153434600Z",
     "start_time": "2025-04-06T14:16:12.805454Z"
    }
   },
   "cell_type": "code",
   "source": [
    "gene = Gene(config)\n",
    "print(gene)"
   ],
   "id": "1253af53a21ff718",
   "outputs": [
    {
     "name": "stdout",
     "output_type": "stream",
     "text": [
      "[7, 720, 39]\n"
     ]
    }
   ],
   "execution_count": 7
  },
  {
   "metadata": {
    "ExecuteTime": {
     "end_time": "2025-04-08T17:08:31.153434600Z",
     "start_time": "2025-04-06T14:16:12.826208Z"
    }
   },
   "cell_type": "code",
   "source": [
    "gene.alter()\n",
    "\n",
    "print(gene.exercise_index())\n",
    "print(gene.duration())\n",
    "print(gene.schedule_to_base(10))\n",
    "print(gene.schedule_to_base(2))\n",
    "print(gene.exercise_days())"
   ],
   "id": "f86213c1db23e36d",
   "outputs": [
    {
     "name": "stdout",
     "output_type": "stream",
     "text": [
      "7\n",
      "720\n",
      "40\n",
      "0101000\n",
      "['Tuesday', 'Thursday']\n"
     ]
    }
   ],
   "execution_count": 8
  },
  {
   "metadata": {},
   "cell_type": "markdown",
   "source": "## Exercise",
   "id": "644afe0cbc48ae65"
  },
  {
   "metadata": {
    "ExecuteTime": {
     "end_time": "2025-04-08T17:08:31.153434600Z",
     "start_time": "2025-04-06T14:16:12.973705Z"
    }
   },
   "cell_type": "code",
   "source": [
    "exercise = Exercise(Gene(config), config)\n",
    "print(exercise)"
   ],
   "id": "46e1283b2cd98d3b",
   "outputs": [
    {
     "name": "stdout",
     "output_type": "stream",
     "text": [
      "EXERCISE PHENOTYPE:\n",
      "          Name: Kayaking, slalom, flat water\n",
      "      Category: Water Activities\n",
      "     MET Value: 9.0\n",
      "      Duration: 675 minutes\n",
      "        Repeat: Thu, Fri, Sat\n",
      "      Genotype: [389, 675, 14]\n",
      "      Schedule: 0001110\n",
      "     Frequency: 3\n",
      "\n"
     ]
    }
   ],
   "execution_count": 9
  },
  {
   "metadata": {
    "ExecuteTime": {
     "end_time": "2025-04-08T17:08:31.153434600Z",
     "start_time": "2025-04-06T14:16:38.675966Z"
    }
   },
   "cell_type": "code",
   "source": [
    "exercise.alter()\n",
    "print(exercise)"
   ],
   "id": "6b807d845f14ffe9",
   "outputs": [
    {
     "name": "stdout",
     "output_type": "stream",
     "text": [
      "EXERCISE PHENOTYPE:\n",
      "          Name: Swimming, crawl, elite swimmers, competition, >90 yards/minute\n",
      "      Category: Water Activities\n",
      "     MET Value: 14.5\n",
      "      Duration: 570 minutes\n",
      "        Repeat: Mon, Tue, Wed, Sat\n",
      "      Genotype: [428, 570, 114]\n",
      "      Schedule: 1110010\n",
      "     Frequency: 4\n",
      "\n"
     ]
    }
   ],
   "execution_count": 47
  },
  {
   "metadata": {},
   "cell_type": "markdown",
   "source": "## Chromosome",
   "id": "29892176d0e72f77"
  },
  {
   "metadata": {
    "ExecuteTime": {
     "end_time": "2025-04-08T17:08:31.153434600Z",
     "start_time": "2025-04-06T14:29:28.633323Z"
    }
   },
   "cell_type": "code",
   "source": [
    "print(\"Mutation Rates:\")\n",
    "print(f\"      Mutation: {int(config.mutation_rate()*100)}%\")\n",
    "print(f\"    Alteration: {int(config.alteration_rate()*100)}%\")\n",
    "print(f\"      Addition: {int(config.addition_rate()*100)}%\")\n",
    "print(f\"      Deletion: {int(config.deletion_rate()*100)}%\")"
   ],
   "id": "c5baa8734d3bd850",
   "outputs": [
    {
     "name": "stdout",
     "output_type": "stream",
     "text": [
      "Mutation Rates:\n",
      "      Mutation: 70%\n",
      "    Alteration: 60%\n",
      "      Addition: 20%\n",
      "      Deletion: 20%\n"
     ]
    }
   ],
   "execution_count": 54
  },
  {
   "metadata": {
    "ExecuteTime": {
     "end_time": "2025-04-08T17:08:31.153434600Z",
     "start_time": "2025-04-06T14:36:50.997588Z"
    }
   },
   "cell_type": "code",
   "source": [
    "chromosome = Chromosome(config)\n",
    "print(chromosome)\n",
    "pd.DataFrame(\n",
    "    chromosome.genotype_to_list('deep'),\n",
    "    columns=['exercise_index', 'duration', 'base10_schedule'],\n",
    "    index = [f\"Exercise {i+1}\" for i in range(chromosome.size())]\n",
    ")"
   ],
   "id": "eab3fce696ed5f8f",
   "outputs": [
    {
     "name": "stdout",
     "output_type": "stream",
     "text": [
      "[[166, 435, 91], [131, 225, 31], [313, 690, 88], [341, 420, 1], [196, 390, 38]]\n"
     ]
    },
    {
     "data": {
      "text/plain": [
       "            exercise_index  duration  base10_schedule\n",
       "Exercise 1             166       435               91\n",
       "Exercise 2             131       225               31\n",
       "Exercise 3             313       690               88\n",
       "Exercise 4             341       420                1\n",
       "Exercise 5             196       390               38"
      ],
      "text/html": [
       "<div>\n",
       "<style scoped>\n",
       "    .dataframe tbody tr th:only-of-type {\n",
       "        vertical-align: middle;\n",
       "    }\n",
       "\n",
       "    .dataframe tbody tr th {\n",
       "        vertical-align: top;\n",
       "    }\n",
       "\n",
       "    .dataframe thead th {\n",
       "        text-align: right;\n",
       "    }\n",
       "</style>\n",
       "<table border=\"1\" class=\"dataframe\">\n",
       "  <thead>\n",
       "    <tr style=\"text-align: right;\">\n",
       "      <th></th>\n",
       "      <th>exercise_index</th>\n",
       "      <th>duration</th>\n",
       "      <th>base10_schedule</th>\n",
       "    </tr>\n",
       "  </thead>\n",
       "  <tbody>\n",
       "    <tr>\n",
       "      <th>Exercise 1</th>\n",
       "      <td>166</td>\n",
       "      <td>435</td>\n",
       "      <td>91</td>\n",
       "    </tr>\n",
       "    <tr>\n",
       "      <th>Exercise 2</th>\n",
       "      <td>131</td>\n",
       "      <td>225</td>\n",
       "      <td>31</td>\n",
       "    </tr>\n",
       "    <tr>\n",
       "      <th>Exercise 3</th>\n",
       "      <td>313</td>\n",
       "      <td>690</td>\n",
       "      <td>88</td>\n",
       "    </tr>\n",
       "    <tr>\n",
       "      <th>Exercise 4</th>\n",
       "      <td>341</td>\n",
       "      <td>420</td>\n",
       "      <td>1</td>\n",
       "    </tr>\n",
       "    <tr>\n",
       "      <th>Exercise 5</th>\n",
       "      <td>196</td>\n",
       "      <td>390</td>\n",
       "      <td>38</td>\n",
       "    </tr>\n",
       "  </tbody>\n",
       "</table>\n",
       "</div>"
      ]
     },
     "execution_count": 144,
     "metadata": {},
     "output_type": "execute_result"
    }
   ],
   "execution_count": 144
  },
  {
   "metadata": {
    "ExecuteTime": {
     "end_time": "2025-04-08T17:08:31.153434600Z",
     "start_time": "2025-04-06T14:36:52.408977Z"
    }
   },
   "cell_type": "code",
   "source": [
    "chromosome.mutate()\n",
    "print(chromosome)\n",
    "pd.DataFrame(\n",
    "    chromosome.genotype_to_list('deep'),\n",
    "    columns=['exercise_index', 'duration', 'base10_schedule'],\n",
    "    index = [f\"Exercise {i+1}\" for i in range(chromosome.size())]\n",
    ")"
   ],
   "id": "87fcfbf96765b1b4",
   "outputs": [
    {
     "name": "stdout",
     "output_type": "stream",
     "text": [
      "[[166, 435, 91], [131, 225, 31], [293, 690, 88], [341, 420, 1], [196, 390, 38]]\n"
     ]
    },
    {
     "data": {
      "text/plain": [
       "            exercise_index  duration  base10_schedule\n",
       "Exercise 1             166       435               91\n",
       "Exercise 2             131       225               31\n",
       "Exercise 3             293       690               88\n",
       "Exercise 4             341       420                1\n",
       "Exercise 5             196       390               38"
      ],
      "text/html": [
       "<div>\n",
       "<style scoped>\n",
       "    .dataframe tbody tr th:only-of-type {\n",
       "        vertical-align: middle;\n",
       "    }\n",
       "\n",
       "    .dataframe tbody tr th {\n",
       "        vertical-align: top;\n",
       "    }\n",
       "\n",
       "    .dataframe thead th {\n",
       "        text-align: right;\n",
       "    }\n",
       "</style>\n",
       "<table border=\"1\" class=\"dataframe\">\n",
       "  <thead>\n",
       "    <tr style=\"text-align: right;\">\n",
       "      <th></th>\n",
       "      <th>exercise_index</th>\n",
       "      <th>duration</th>\n",
       "      <th>base10_schedule</th>\n",
       "    </tr>\n",
       "  </thead>\n",
       "  <tbody>\n",
       "    <tr>\n",
       "      <th>Exercise 1</th>\n",
       "      <td>166</td>\n",
       "      <td>435</td>\n",
       "      <td>91</td>\n",
       "    </tr>\n",
       "    <tr>\n",
       "      <th>Exercise 2</th>\n",
       "      <td>131</td>\n",
       "      <td>225</td>\n",
       "      <td>31</td>\n",
       "    </tr>\n",
       "    <tr>\n",
       "      <th>Exercise 3</th>\n",
       "      <td>293</td>\n",
       "      <td>690</td>\n",
       "      <td>88</td>\n",
       "    </tr>\n",
       "    <tr>\n",
       "      <th>Exercise 4</th>\n",
       "      <td>341</td>\n",
       "      <td>420</td>\n",
       "      <td>1</td>\n",
       "    </tr>\n",
       "    <tr>\n",
       "      <th>Exercise 5</th>\n",
       "      <td>196</td>\n",
       "      <td>390</td>\n",
       "      <td>38</td>\n",
       "    </tr>\n",
       "  </tbody>\n",
       "</table>\n",
       "</div>"
      ]
     },
     "execution_count": 145,
     "metadata": {},
     "output_type": "execute_result"
    }
   ],
   "execution_count": 145
  },
  {
   "metadata": {},
   "cell_type": "code",
   "outputs": [],
   "execution_count": null,
   "source": "hello",
   "id": "c558211649ec4289"
  }
 ],
 "metadata": {
  "kernelspec": {
   "display_name": "Python 3",
   "language": "python",
   "name": "python3"
  },
  "language_info": {
   "codemirror_mode": {
    "name": "ipython",
    "version": 2
   },
   "file_extension": ".py",
   "mimetype": "text/x-python",
   "name": "python",
   "nbconvert_exporter": "python",
   "pygments_lexer": "ipython2",
   "version": "2.7.6"
  }
 },
 "nbformat": 4,
 "nbformat_minor": 5
}
