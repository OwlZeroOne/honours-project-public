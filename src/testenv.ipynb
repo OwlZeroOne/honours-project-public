{
 "cells": [
  {
   "metadata": {},
   "cell_type": "markdown",
   "source": "# Test Environment",
   "id": "d393580aa9707cae"
  },
  {
   "metadata": {},
   "cell_type": "markdown",
   "source": "## Imports",
   "id": "c987366fc0f61352"
  },
  {
   "metadata": {
    "ExecuteTime": {
     "end_time": "2025-04-21T17:05:11.756021Z",
     "start_time": "2025-04-21T17:05:09.775385Z"
    }
   },
   "cell_type": "code",
   "source": [
    "import pandas as pd\n",
    "import numpy as np\n",
    "import matplotlib.pyplot as plt\n",
    "import matplotlib.colors as clrs # LinearSegmentedColormap\n",
    "import random as rnd\n",
    "import os\n",
    "import IPython.display as ipd\n",
    "\n",
    "from configurations import Config\n",
    "from exercise_repository import ExerciseRepository\n",
    "from defaults import Defaults\n",
    "from statistics import Statistics\n",
    "from csv_handler import CsvHandler\n",
    "from timer import Timer\n",
    "from map_elites import MapElites\n",
    "from chromosome import Chromosome\n",
    "from schedule import Schedule\n",
    "from gene import Gene\n",
    "from exercise import Exercise\n",
    "from weight_loss_difference import WeightLossDifference"
   ],
   "id": "9d4838587f1e2502",
   "outputs": [],
   "execution_count": 1
  },
  {
   "metadata": {},
   "cell_type": "markdown",
   "source": "## Saving Results",
   "id": "da7860cb4ab3c5a0"
  },
  {
   "metadata": {
    "ExecuteTime": {
     "end_time": "2025-04-21T17:05:11.773068Z",
     "start_time": "2025-04-21T17:05:11.759329Z"
    }
   },
   "cell_type": "code",
   "source": [
    "def save_results(map_e: MapElites, config: Config, t_elapsed: int):\n",
    "    statistics = Statistics(map_e)\n",
    "    directory = \"./../results/runtime_stats/\"\n",
    "    filename = f\"{config.total_evaluations()}_evals.csv\"\n",
    "    \n",
    "    csv_handler = CsvHandler(\n",
    "        directory,\n",
    "        filename,\n",
    "        [\"solutions\", \"execution_t\", \"fitness_mean\", \"fitness_std\", \"met_mean\", \"met_std\"],\n",
    "    )\n",
    "    \n",
    "    data = [\n",
    "            statistics.count_solutions(),\n",
    "            t_elapsed,\n",
    "            statistics.mean_quality(),\n",
    "            statistics.std_quality(),\n",
    "            statistics.mean_met(),\n",
    "            statistics.std_met()\n",
    "        ]\n",
    "    \n",
    "    csv_handler.append(data)\n",
    "    print(f\"Results saved to {directory}{filename}.\")"
   ],
   "id": "d5c7877af7079519",
   "outputs": [],
   "execution_count": 2
  },
  {
   "metadata": {},
   "cell_type": "markdown",
   "source": "## Input Parameters",
   "id": "72e1e64c56ac0d27"
  },
  {
   "metadata": {
    "ExecuteTime": {
     "end_time": "2025-04-21T17:05:11.779270Z",
     "start_time": "2025-04-21T17:05:11.776206Z"
    }
   },
   "cell_type": "code",
   "source": [
    "w0 = 126 # kg\n",
    "wt = 64 # kg\n",
    "P = 12 # weeks"
   ],
   "id": "d31f9a76f2a661c8",
   "outputs": [],
   "execution_count": 3
  },
  {
   "metadata": {},
   "cell_type": "markdown",
   "source": "## 1. Exercise Repository",
   "id": "3230f17814583572"
  },
  {
   "metadata": {
    "ExecuteTime": {
     "end_time": "2025-04-21T17:05:11.820774Z",
     "start_time": "2025-04-21T17:05:11.784538Z"
    }
   },
   "cell_type": "code",
   "source": [
    "repo = ExerciseRepository(\"./../data/compendium_small.csv\")\n",
    "print(repo)\n",
    "repo.show()"
   ],
   "id": "bb146d719a82605b",
   "outputs": [
    {
     "name": "stdout",
     "output_type": "stream",
     "text": [
      "EXERCISE REPOSITORY:\n",
      "         Size: 96\n",
      "    MET Range: 1 - 15\n",
      "      Columns: ['idx', 'name', 'met', 'tags']\n",
      "\n",
      "    idx                         name  met                   tags\n",
      "0     0           Bicycling, general  7.0              Bicycling\n",
      "1     1             Aerobic, general  7.3  Conditioning Exercise\n",
      "2     2                 Calisthenics  4.4  Conditioning Exercise\n",
      "3     3     Cicuit training, general  5.5  Conditioning Exercise\n",
      "4     4  Elliptical trainer, general  7.0  Conditioning Exercise\n",
      "..  ...                          ...  ...                    ...\n",
      "91   91             Tai chi, general  3.6                 Sports\n",
      "92   92              Tennis, general  6.8                 Sports\n",
      "93   93     Trampoline, recreational  6.3                 Sports\n",
      "94   94          Volleyball, general  5.5                 Sports\n",
      "95   95           Wallyball, general  7.0                 Sports\n",
      "\n",
      "[96 rows x 4 columns]\n"
     ]
    }
   ],
   "execution_count": 4
  },
  {
   "metadata": {
    "ExecuteTime": {
     "end_time": "2025-04-21T17:05:12.122471Z",
     "start_time": "2025-04-21T17:05:12.115822Z"
    }
   },
   "cell_type": "code",
   "source": "repo.item_at(rnd.choice(range(repo.size())))",
   "id": "e753dbc6df608db0",
   "outputs": [
    {
     "data": {
      "text/plain": [
       "idx                                12\n",
       "name    Slide board exercise, general\n",
       "met                              10.5\n",
       "tags            Conditioning Exercise\n",
       "Name: 12, dtype: object"
      ]
     },
     "execution_count": 5,
     "metadata": {},
     "output_type": "execute_result"
    }
   ],
   "execution_count": 5
  },
  {
   "metadata": {},
   "cell_type": "markdown",
   "source": "## 2. Configurations",
   "id": "63c9352672990c69"
  },
  {
   "metadata": {
    "ExecuteTime": {
     "end_time": "2025-04-21T17:05:12.205072Z",
     "start_time": "2025-04-21T17:05:12.190450Z"
    }
   },
   "cell_type": "code",
   "source": [
    "config = Config(w0, wt, P)\n",
    "\n",
    "print(config)"
   ],
   "id": "e0549d3abf9eef12",
   "outputs": [
    {
     "name": "stdout",
     "output_type": "stream",
     "text": [
      "CONFIGURATIONS:\n",
      "Number of Initialisations: 1000\n",
      "Number of Evaluations: 10000\n",
      "Number of Map Bins: 20\n",
      "EXERCISE REPOSITORY:\n",
      "         Size: 96\n",
      "    MET Range: 1 - 15\n",
      "      Columns: ['idx', 'name', 'met', 'tags']\n",
      "\n",
      "Initial Weight: 126\n",
      "Target Weight: 64\n",
      "Period: 12\n",
      "Exercise Index Range: range(0, 96)\n",
      "Exercise Duration Range: range(15, 721, 15)\n",
      "Daily Duration Range: range(0, 481)\n",
      "Daily Exercise Count Range: range(0, 11)\n",
      "Tolerable Days: 1111111\n",
      "\n"
     ]
    }
   ],
   "execution_count": 6
  },
  {
   "metadata": {},
   "cell_type": "markdown",
   "source": "## 3. Timer",
   "id": "35882649726f3c40"
  },
  {
   "metadata": {},
   "cell_type": "markdown",
   "source": "",
   "id": "17617aa7d21057dc"
  },
  {
   "metadata": {
    "ExecuteTime": {
     "end_time": "2025-04-21T17:05:12.378777Z",
     "start_time": "2025-04-21T17:05:12.365416Z"
    }
   },
   "cell_type": "code",
   "source": [
    "t = Timer()\n",
    "\n",
    "i = 0\n",
    "\n",
    "t.start()\n",
    "for _ in range(rnd.randint(100000,500000)):\n",
    "    i  += 1\n",
    "    \n",
    "t.stop()\n",
    "t.result()"
   ],
   "id": "e73a350cf0e1d82",
   "outputs": [
    {
     "data": {
      "text/plain": [
       "0.01"
      ]
     },
     "execution_count": 7,
     "metadata": {},
     "output_type": "execute_result"
    }
   ],
   "execution_count": 7
  },
  {
   "metadata": {},
   "cell_type": "markdown",
   "source": "## 4. Gene",
   "id": "1f686601346feeb"
  },
  {
   "metadata": {
    "ExecuteTime": {
     "end_time": "2025-04-21T17:05:12.448689Z",
     "start_time": "2025-04-21T17:05:12.440330Z"
    }
   },
   "cell_type": "code",
   "source": [
    "genes = []\n",
    "g = None\n",
    "\n",
    "for i in range(5):\n",
    "    if i == 0:\n",
    "        g = Gene(config)\n",
    "    else:\n",
    "        for _ in range(5):\n",
    "            g.alter()\n",
    "    genes.append([str(g),g.exercise_index(),g.duration(),g.schedule_to_base(10),g.schedule_to_base(2),g.exercise_days()])\n",
    "\n",
    "pd.DataFrame(genes, columns=[\"genotype\",\"idx\",\"duration\",\"base10_schedule\",\"base2_schedule\",\"days\"])"
   ],
   "id": "f86213c1db23e36d",
   "outputs": [
    {
     "data": {
      "text/plain": [
       "         genotype  idx  duration  base10_schedule base2_schedule  \\\n",
       "0  [58, 120, 111]   58       120              111        1101111   \n",
       "1  [52, 255, 125]   52       255              125        1111101   \n",
       "2  [20, 555, 124]   20       555              124        1111100   \n",
       "3  [43, 465, 106]   43       465              106        1101010   \n",
       "4    [1, 465, 80]    1       465               80        1010000   \n",
       "\n",
       "                                                days  \n",
       "0  [Monday, Tuesday, Thursday, Friday, Saturday, ...  \n",
       "1  [Monday, Tuesday, Wednesday, Thursday, Friday,...  \n",
       "2     [Monday, Tuesday, Wednesday, Thursday, Friday]  \n",
       "3              [Monday, Tuesday, Thursday, Saturday]  \n",
       "4                                [Monday, Wednesday]  "
      ],
      "text/html": [
       "<div>\n",
       "<style scoped>\n",
       "    .dataframe tbody tr th:only-of-type {\n",
       "        vertical-align: middle;\n",
       "    }\n",
       "\n",
       "    .dataframe tbody tr th {\n",
       "        vertical-align: top;\n",
       "    }\n",
       "\n",
       "    .dataframe thead th {\n",
       "        text-align: right;\n",
       "    }\n",
       "</style>\n",
       "<table border=\"1\" class=\"dataframe\">\n",
       "  <thead>\n",
       "    <tr style=\"text-align: right;\">\n",
       "      <th></th>\n",
       "      <th>genotype</th>\n",
       "      <th>idx</th>\n",
       "      <th>duration</th>\n",
       "      <th>base10_schedule</th>\n",
       "      <th>base2_schedule</th>\n",
       "      <th>days</th>\n",
       "    </tr>\n",
       "  </thead>\n",
       "  <tbody>\n",
       "    <tr>\n",
       "      <th>0</th>\n",
       "      <td>[58, 120, 111]</td>\n",
       "      <td>58</td>\n",
       "      <td>120</td>\n",
       "      <td>111</td>\n",
       "      <td>1101111</td>\n",
       "      <td>[Monday, Tuesday, Thursday, Friday, Saturday, ...</td>\n",
       "    </tr>\n",
       "    <tr>\n",
       "      <th>1</th>\n",
       "      <td>[52, 255, 125]</td>\n",
       "      <td>52</td>\n",
       "      <td>255</td>\n",
       "      <td>125</td>\n",
       "      <td>1111101</td>\n",
       "      <td>[Monday, Tuesday, Wednesday, Thursday, Friday,...</td>\n",
       "    </tr>\n",
       "    <tr>\n",
       "      <th>2</th>\n",
       "      <td>[20, 555, 124]</td>\n",
       "      <td>20</td>\n",
       "      <td>555</td>\n",
       "      <td>124</td>\n",
       "      <td>1111100</td>\n",
       "      <td>[Monday, Tuesday, Wednesday, Thursday, Friday]</td>\n",
       "    </tr>\n",
       "    <tr>\n",
       "      <th>3</th>\n",
       "      <td>[43, 465, 106]</td>\n",
       "      <td>43</td>\n",
       "      <td>465</td>\n",
       "      <td>106</td>\n",
       "      <td>1101010</td>\n",
       "      <td>[Monday, Tuesday, Thursday, Saturday]</td>\n",
       "    </tr>\n",
       "    <tr>\n",
       "      <th>4</th>\n",
       "      <td>[1, 465, 80]</td>\n",
       "      <td>1</td>\n",
       "      <td>465</td>\n",
       "      <td>80</td>\n",
       "      <td>1010000</td>\n",
       "      <td>[Monday, Wednesday]</td>\n",
       "    </tr>\n",
       "  </tbody>\n",
       "</table>\n",
       "</div>"
      ]
     },
     "execution_count": 8,
     "metadata": {},
     "output_type": "execute_result"
    }
   ],
   "execution_count": 8
  },
  {
   "metadata": {},
   "cell_type": "markdown",
   "source": "## 5. Exercise",
   "id": "644afe0cbc48ae65"
  },
  {
   "metadata": {
    "ExecuteTime": {
     "end_time": "2025-04-21T17:05:12.522863Z",
     "start_time": "2025-04-21T17:05:12.518892Z"
    }
   },
   "cell_type": "code",
   "source": [
    "gene = Gene(config)\n",
    "print(f\"Gene: {str(gene)}\\n\")\n",
    "\n",
    "exercise = Exercise(Gene(config), config)\n",
    "print(exercise)"
   ],
   "id": "46e1283b2cd98d3b",
   "outputs": [
    {
     "name": "stdout",
     "output_type": "stream",
     "text": [
      "Gene: [63, 720, 67]\n",
      "\n",
      "EXERCISE PHENOTYPE:\n",
      "          Name: Resistance, general\n",
      "      Category: Conditioning Exercise\n",
      "     MET Value: 4.97\n",
      "      Duration: 420 minutes\n",
      "        Repeat: Tue, Thu, Sun\n",
      "      Genotype: [5, 420, 41]\n",
      "      Schedule: 0101001\n",
      "     Frequency: 3\n",
      "\n"
     ]
    }
   ],
   "execution_count": 9
  },
  {
   "metadata": {
    "ExecuteTime": {
     "end_time": "2025-04-21T17:05:12.572808Z",
     "start_time": "2025-04-21T17:05:12.565814Z"
    }
   },
   "cell_type": "code",
   "source": [
    "exercise.alter()\n",
    "print(exercise)"
   ],
   "id": "6b807d845f14ffe9",
   "outputs": [
    {
     "name": "stdout",
     "output_type": "stream",
     "text": [
      "EXERCISE PHENOTYPE:\n",
      "          Name: Resistance, general\n",
      "      Category: Conditioning Exercise\n",
      "     MET Value: 4.97\n",
      "      Duration: 420 minutes\n",
      "        Repeat: Mon, Tue, Thu, Sat, Sun\n",
      "      Genotype: [5, 420, 107]\n",
      "      Schedule: 1101011\n",
      "     Frequency: 5\n",
      "\n"
     ]
    }
   ],
   "execution_count": 10
  },
  {
   "metadata": {
    "ExecuteTime": {
     "end_time": "2025-04-21T17:05:12.652771Z",
     "start_time": "2025-04-21T17:05:12.649076Z"
    }
   },
   "cell_type": "code",
   "source": "print(repo.item_at(66))",
   "id": "53fc17fc92a43eab",
   "outputs": [
    {
     "name": "stdout",
     "output_type": "stream",
     "text": [
      "idx                     66\n",
      "name    Kung Fu Gymnastics\n",
      "met                    5.5\n",
      "tags                Sports\n",
      "Name: 66, dtype: object\n"
     ]
    }
   ],
   "execution_count": 11
  },
  {
   "metadata": {
    "ExecuteTime": {
     "end_time": "2025-04-21T17:05:12.695372Z",
     "start_time": "2025-04-21T17:05:12.691091Z"
    }
   },
   "cell_type": "code",
   "source": [
    "print(\"Mutation Rates:\")\n",
    "print(f\"      Mutation: {int(config.mutation_rate()*100)}%\")\n",
    "print(f\"    Alteration: {int(config.alteration_rate()*100)}%\")\n",
    "print(f\"      Addition: {int(config.addition_rate()*100)}%\")\n",
    "print(f\"      Deletion: {int(config.deletion_rate()*100)}%\")"
   ],
   "id": "c5baa8734d3bd850",
   "outputs": [
    {
     "name": "stdout",
     "output_type": "stream",
     "text": [
      "Mutation Rates:\n",
      "      Mutation: 70%\n",
      "    Alteration: 60%\n",
      "      Addition: 20%\n",
      "      Deletion: 20%\n"
     ]
    }
   ],
   "execution_count": 12
  },
  {
   "metadata": {},
   "cell_type": "markdown",
   "source": "## 6. Chromosome",
   "id": "29892176d0e72f77"
  },
  {
   "metadata": {
    "ExecuteTime": {
     "end_time": "2025-04-21T17:05:12.740362Z",
     "start_time": "2025-04-21T17:05:12.733495Z"
    }
   },
   "cell_type": "code",
   "source": [
    "chromosome = Chromosome(config)\n",
    "print(chromosome)\n",
    "\n",
    "for _ in range(8):\n",
    "    chromosome.mutate()\n",
    "    print(chromosome)\n",
    "\n",
    "pd.DataFrame(chromosome.genotype_to_list('deep'),\n",
    "    columns=['exercise_index', 'duration', 'base10_schedule'],\n",
    "    index = [f\"Exercise {i+1}\" for i in range(chromosome.size())]\n",
    ")"
   ],
   "id": "eab3fce696ed5f8f",
   "outputs": [
    {
     "name": "stdout",
     "output_type": "stream",
     "text": [
      "[[91, 645, 108], [27, 345, 85], [75, 720, 59], [58, 540, 87], [77, 315, 84]]\n",
      "[[91, 645, 108], [27, 345, 36], [75, 720, 59], [58, 540, 87], [77, 315, 84]]\n",
      "[[91, 645, 108], [27, 345, 36], [75, 615, 59], [58, 540, 87], [77, 315, 84]]\n",
      "[[91, 645, 108], [27, 345, 36], [33, 615, 59], [58, 540, 87], [77, 315, 84]]\n",
      "[[91, 645, 108], [27, 345, 36], [33, 615, 59], [58, 540, 87], [77, 315, 70]]\n",
      "[[91, 645, 108], [27, 345, 36], [33, 615, 59], [77, 315, 70]]\n",
      "[[91, 645, 108], [27, 345, 36], [33, 615, 59], [77, 315, 70], [82, 150, 95]]\n",
      "[[91, 645, 70], [27, 345, 36], [33, 615, 59], [77, 315, 70], [82, 150, 95]]\n",
      "[[91, 645, 70], [27, 345, 36], [33, 615, 59], [77, 315, 70], [82, 150, 95]]\n"
     ]
    },
    {
     "data": {
      "text/plain": [
       "            exercise_index  duration  base10_schedule\n",
       "Exercise 1              91       645               70\n",
       "Exercise 2              27       345               36\n",
       "Exercise 3              33       615               59\n",
       "Exercise 4              77       315               70\n",
       "Exercise 5              82       150               95"
      ],
      "text/html": [
       "<div>\n",
       "<style scoped>\n",
       "    .dataframe tbody tr th:only-of-type {\n",
       "        vertical-align: middle;\n",
       "    }\n",
       "\n",
       "    .dataframe tbody tr th {\n",
       "        vertical-align: top;\n",
       "    }\n",
       "\n",
       "    .dataframe thead th {\n",
       "        text-align: right;\n",
       "    }\n",
       "</style>\n",
       "<table border=\"1\" class=\"dataframe\">\n",
       "  <thead>\n",
       "    <tr style=\"text-align: right;\">\n",
       "      <th></th>\n",
       "      <th>exercise_index</th>\n",
       "      <th>duration</th>\n",
       "      <th>base10_schedule</th>\n",
       "    </tr>\n",
       "  </thead>\n",
       "  <tbody>\n",
       "    <tr>\n",
       "      <th>Exercise 1</th>\n",
       "      <td>91</td>\n",
       "      <td>645</td>\n",
       "      <td>70</td>\n",
       "    </tr>\n",
       "    <tr>\n",
       "      <th>Exercise 2</th>\n",
       "      <td>27</td>\n",
       "      <td>345</td>\n",
       "      <td>36</td>\n",
       "    </tr>\n",
       "    <tr>\n",
       "      <th>Exercise 3</th>\n",
       "      <td>33</td>\n",
       "      <td>615</td>\n",
       "      <td>59</td>\n",
       "    </tr>\n",
       "    <tr>\n",
       "      <th>Exercise 4</th>\n",
       "      <td>77</td>\n",
       "      <td>315</td>\n",
       "      <td>70</td>\n",
       "    </tr>\n",
       "    <tr>\n",
       "      <th>Exercise 5</th>\n",
       "      <td>82</td>\n",
       "      <td>150</td>\n",
       "      <td>95</td>\n",
       "    </tr>\n",
       "  </tbody>\n",
       "</table>\n",
       "</div>"
      ]
     },
     "execution_count": 13,
     "metadata": {},
     "output_type": "execute_result"
    }
   ],
   "execution_count": 13
  },
  {
   "metadata": {},
   "cell_type": "markdown",
   "source": "## 7. Schedule",
   "id": "23dbf0db816ab9e8"
  },
  {
   "metadata": {
    "ExecuteTime": {
     "end_time": "2025-04-21T17:05:12.788509Z",
     "start_time": "2025-04-21T17:05:12.781978Z"
    }
   },
   "cell_type": "code",
   "source": [
    "chromosome = Chromosome(config)\n",
    "\n",
    "print(\"GENOTYPE: ============================================\")\n",
    "print(chromosome)\n",
    "schedule = Schedule(chromosome, config)\n",
    "print(\"\\nPHENOTYPE: ===========================================\")\n",
    "print(schedule)\n",
    "print(\"FITNESS: =============================================\")\n",
    "print(schedule.fitness())\n",
    "print(\"\\nFEATURES: ============================================\")\n",
    "print(schedule.features())"
   ],
   "id": "765d704866136af",
   "outputs": [
    {
     "name": "stdout",
     "output_type": "stream",
     "text": [
      "GENOTYPE: ============================================\n",
      "[[12, 180, 123], [2, 660, 58], [33, 705, 70], [0, 30, 28], [7, 465, 26]]\n",
      "\n",
      "PHENOTYPE: ===========================================\n",
      "MON: [(12,180),(33,705)]\n",
      "TUE: [(12,180),(2,660)]\n",
      "WED: [(12,180),(2,660),(0,30),(7,465)]\n",
      "THU: [(12,180),(2,660),(0,30),(7,465)]\n",
      "FRI: [(33,705),(0,30)]\n",
      "SAT: [(12,180),(2,660),(33,705),(7,465)]\n",
      "SUN: [(12,180)]\n",
      "\n",
      "FITNESS: =============================================\n",
      "25.7\n",
      "\n",
      "FEATURES: ============================================\n",
      "(6, 11, 9)\n"
     ]
    }
   ],
   "execution_count": 14
  },
  {
   "metadata": {
    "ExecuteTime": {
     "end_time": "2025-04-21T17:05:12.823196Z",
     "start_time": "2025-04-21T17:05:12.818002Z"
    }
   },
   "cell_type": "code",
   "source": [
    "schedule.mutate()\n",
    "print(\"GENOTYPE: ============================================\")\n",
    "print(schedule.genotype_to_list('deep'))\n",
    "print(\"\\nPHENOTYPE: ===========================================\")\n",
    "print(schedule)\n",
    "print(\"FITNESS: =============================================\")\n",
    "print(schedule.fitness())\n",
    "print(\"\\nFEATURES: ============================================\")\n",
    "print(schedule.features())"
   ],
   "id": "bcd1b62169fa05a3",
   "outputs": [
    {
     "name": "stdout",
     "output_type": "stream",
     "text": [
      "GENOTYPE: ============================================\n",
      "[[12, 180, 123], [90, 660, 58], [33, 705, 70], [0, 30, 28], [7, 465, 26]]\n",
      "\n",
      "PHENOTYPE: ===========================================\n",
      "MON: [(12,180),(33,705)]\n",
      "TUE: [(12,180),(90,660)]\n",
      "WED: [(12,180),(90,660),(0,30),(7,465)]\n",
      "THU: [(12,180),(90,660),(0,30),(7,465)]\n",
      "FRI: [(33,705),(0,30)]\n",
      "SAT: [(12,180),(90,660),(33,705),(7,465)]\n",
      "SUN: [(12,180)]\n",
      "\n",
      "FITNESS: =============================================\n",
      "24.63\n",
      "\n",
      "FEATURES: ============================================\n",
      "(6, 11, 9)\n"
     ]
    }
   ],
   "execution_count": 15
  },
  {
   "metadata": {
    "ExecuteTime": {
     "end_time": "2025-04-21T17:05:12.894715Z",
     "start_time": "2025-04-21T17:05:12.886996Z"
    }
   },
   "cell_type": "code",
   "source": "pd.DataFrame(schedule.mets(), index=Defaults.WEEK)",
   "id": "902c8c6a7dc1420b",
   "outputs": [
    {
     "data": {
      "text/plain": [
       "              0    1    2    3\n",
       "Monday     10.5  4.3  0.0  0.0\n",
       "Tuesday    10.5  4.0  0.0  0.0\n",
       "Wednesday  10.5  4.0  7.0  9.3\n",
       "Thursday   10.5  4.0  7.0  9.3\n",
       "Friday      4.3  7.0  0.0  0.0\n",
       "Saturday   10.5  4.0  4.3  9.3\n",
       "Sunday     10.5  0.0  0.0  0.0"
      ],
      "text/html": [
       "<div>\n",
       "<style scoped>\n",
       "    .dataframe tbody tr th:only-of-type {\n",
       "        vertical-align: middle;\n",
       "    }\n",
       "\n",
       "    .dataframe tbody tr th {\n",
       "        vertical-align: top;\n",
       "    }\n",
       "\n",
       "    .dataframe thead th {\n",
       "        text-align: right;\n",
       "    }\n",
       "</style>\n",
       "<table border=\"1\" class=\"dataframe\">\n",
       "  <thead>\n",
       "    <tr style=\"text-align: right;\">\n",
       "      <th></th>\n",
       "      <th>0</th>\n",
       "      <th>1</th>\n",
       "      <th>2</th>\n",
       "      <th>3</th>\n",
       "    </tr>\n",
       "  </thead>\n",
       "  <tbody>\n",
       "    <tr>\n",
       "      <th>Monday</th>\n",
       "      <td>10.5</td>\n",
       "      <td>4.3</td>\n",
       "      <td>0.0</td>\n",
       "      <td>0.0</td>\n",
       "    </tr>\n",
       "    <tr>\n",
       "      <th>Tuesday</th>\n",
       "      <td>10.5</td>\n",
       "      <td>4.0</td>\n",
       "      <td>0.0</td>\n",
       "      <td>0.0</td>\n",
       "    </tr>\n",
       "    <tr>\n",
       "      <th>Wednesday</th>\n",
       "      <td>10.5</td>\n",
       "      <td>4.0</td>\n",
       "      <td>7.0</td>\n",
       "      <td>9.3</td>\n",
       "    </tr>\n",
       "    <tr>\n",
       "      <th>Thursday</th>\n",
       "      <td>10.5</td>\n",
       "      <td>4.0</td>\n",
       "      <td>7.0</td>\n",
       "      <td>9.3</td>\n",
       "    </tr>\n",
       "    <tr>\n",
       "      <th>Friday</th>\n",
       "      <td>4.3</td>\n",
       "      <td>7.0</td>\n",
       "      <td>0.0</td>\n",
       "      <td>0.0</td>\n",
       "    </tr>\n",
       "    <tr>\n",
       "      <th>Saturday</th>\n",
       "      <td>10.5</td>\n",
       "      <td>4.0</td>\n",
       "      <td>4.3</td>\n",
       "      <td>9.3</td>\n",
       "    </tr>\n",
       "    <tr>\n",
       "      <th>Sunday</th>\n",
       "      <td>10.5</td>\n",
       "      <td>0.0</td>\n",
       "      <td>0.0</td>\n",
       "      <td>0.0</td>\n",
       "    </tr>\n",
       "  </tbody>\n",
       "</table>\n",
       "</div>"
      ]
     },
     "execution_count": 16,
     "metadata": {},
     "output_type": "execute_result"
    }
   ],
   "execution_count": 16
  },
  {
   "metadata": {
    "ExecuteTime": {
     "end_time": "2025-04-21T17:05:12.965314Z",
     "start_time": "2025-04-21T17:05:12.956370Z"
    }
   },
   "cell_type": "code",
   "source": "pd.DataFrame(schedule.durations(), index=Defaults.WEEK)",
   "id": "edebe3931aa49447",
   "outputs": [
    {
     "data": {
      "text/plain": [
       "             0    1    2    3\n",
       "Monday     180  705    0    0\n",
       "Tuesday    180  660    0    0\n",
       "Wednesday  180  660   30  465\n",
       "Thursday   180  660   30  465\n",
       "Friday     705   30    0    0\n",
       "Saturday   180  660  705  465\n",
       "Sunday     180    0    0    0"
      ],
      "text/html": [
       "<div>\n",
       "<style scoped>\n",
       "    .dataframe tbody tr th:only-of-type {\n",
       "        vertical-align: middle;\n",
       "    }\n",
       "\n",
       "    .dataframe tbody tr th {\n",
       "        vertical-align: top;\n",
       "    }\n",
       "\n",
       "    .dataframe thead th {\n",
       "        text-align: right;\n",
       "    }\n",
       "</style>\n",
       "<table border=\"1\" class=\"dataframe\">\n",
       "  <thead>\n",
       "    <tr style=\"text-align: right;\">\n",
       "      <th></th>\n",
       "      <th>0</th>\n",
       "      <th>1</th>\n",
       "      <th>2</th>\n",
       "      <th>3</th>\n",
       "    </tr>\n",
       "  </thead>\n",
       "  <tbody>\n",
       "    <tr>\n",
       "      <th>Monday</th>\n",
       "      <td>180</td>\n",
       "      <td>705</td>\n",
       "      <td>0</td>\n",
       "      <td>0</td>\n",
       "    </tr>\n",
       "    <tr>\n",
       "      <th>Tuesday</th>\n",
       "      <td>180</td>\n",
       "      <td>660</td>\n",
       "      <td>0</td>\n",
       "      <td>0</td>\n",
       "    </tr>\n",
       "    <tr>\n",
       "      <th>Wednesday</th>\n",
       "      <td>180</td>\n",
       "      <td>660</td>\n",
       "      <td>30</td>\n",
       "      <td>465</td>\n",
       "    </tr>\n",
       "    <tr>\n",
       "      <th>Thursday</th>\n",
       "      <td>180</td>\n",
       "      <td>660</td>\n",
       "      <td>30</td>\n",
       "      <td>465</td>\n",
       "    </tr>\n",
       "    <tr>\n",
       "      <th>Friday</th>\n",
       "      <td>705</td>\n",
       "      <td>30</td>\n",
       "      <td>0</td>\n",
       "      <td>0</td>\n",
       "    </tr>\n",
       "    <tr>\n",
       "      <th>Saturday</th>\n",
       "      <td>180</td>\n",
       "      <td>660</td>\n",
       "      <td>705</td>\n",
       "      <td>465</td>\n",
       "    </tr>\n",
       "    <tr>\n",
       "      <th>Sunday</th>\n",
       "      <td>180</td>\n",
       "      <td>0</td>\n",
       "      <td>0</td>\n",
       "      <td>0</td>\n",
       "    </tr>\n",
       "  </tbody>\n",
       "</table>\n",
       "</div>"
      ]
     },
     "execution_count": 17,
     "metadata": {},
     "output_type": "execute_result"
    }
   ],
   "execution_count": 17
  },
  {
   "metadata": {
    "ExecuteTime": {
     "end_time": "2025-04-21T17:05:13.026873Z",
     "start_time": "2025-04-21T17:05:13.021437Z"
    }
   },
   "cell_type": "code",
   "source": [
    "pd.DataFrame(\n",
    "    schedule.frequencies(),\n",
    "    index=[e.name() for e in schedule.exercises()],\n",
    "    columns=[\"Frequency\"]\n",
    ")"
   ],
   "id": "4d450786cffc377a",
   "outputs": [
    {
     "data": {
      "text/plain": [
       "                                    Frequency\n",
       "Slide board exercise, general               6\n",
       "Table tennis, ping pong                     4\n",
       "Archery                                     3\n",
       "Bicycling, general                          3\n",
       "Stair treadmill ergometer, general          3"
      ],
      "text/html": [
       "<div>\n",
       "<style scoped>\n",
       "    .dataframe tbody tr th:only-of-type {\n",
       "        vertical-align: middle;\n",
       "    }\n",
       "\n",
       "    .dataframe tbody tr th {\n",
       "        vertical-align: top;\n",
       "    }\n",
       "\n",
       "    .dataframe thead th {\n",
       "        text-align: right;\n",
       "    }\n",
       "</style>\n",
       "<table border=\"1\" class=\"dataframe\">\n",
       "  <thead>\n",
       "    <tr style=\"text-align: right;\">\n",
       "      <th></th>\n",
       "      <th>Frequency</th>\n",
       "    </tr>\n",
       "  </thead>\n",
       "  <tbody>\n",
       "    <tr>\n",
       "      <th>Slide board exercise, general</th>\n",
       "      <td>6</td>\n",
       "    </tr>\n",
       "    <tr>\n",
       "      <th>Table tennis, ping pong</th>\n",
       "      <td>4</td>\n",
       "    </tr>\n",
       "    <tr>\n",
       "      <th>Archery</th>\n",
       "      <td>3</td>\n",
       "    </tr>\n",
       "    <tr>\n",
       "      <th>Bicycling, general</th>\n",
       "      <td>3</td>\n",
       "    </tr>\n",
       "    <tr>\n",
       "      <th>Stair treadmill ergometer, general</th>\n",
       "      <td>3</td>\n",
       "    </tr>\n",
       "  </tbody>\n",
       "</table>\n",
       "</div>"
      ]
     },
     "execution_count": 18,
     "metadata": {},
     "output_type": "execute_result"
    }
   ],
   "execution_count": 18
  },
  {
   "metadata": {},
   "cell_type": "markdown",
   "source": "## 8. Objective Function: Weight Loss Difference",
   "id": "6e74096e3976230e"
  },
  {
   "metadata": {
    "ExecuteTime": {
     "end_time": "2025-04-21T17:05:13.125270Z",
     "start_time": "2025-04-21T17:05:13.120673Z"
    }
   },
   "cell_type": "code",
   "source": [
    "schedule.mutate()\n",
    "of = WeightLossDifference(config, schedule.phenotype_to_list())\n",
    "fit = of.run()\n",
    "print(schedule.phenotype_to_list('deep'))\n",
    "print(f\"Fitness: {fit}\")"
   ],
   "id": "a1f37fba3a1d9355",
   "outputs": [
    {
     "name": "stdout",
     "output_type": "stream",
     "text": [
      "[[[12, 180, 10.5], [33, 705, 4.3]], [[12, 180, 10.5], [90, 660, 4.0], [15, 180, 2.3]], [[12, 180, 10.5], [90, 660, 4.0], [0, 30, 7.0], [7, 465, 9.3]], [[12, 180, 10.5], [90, 660, 4.0], [0, 30, 7.0], [7, 465, 9.3]], [[33, 705, 4.3], [0, 30, 7.0]], [[12, 180, 10.5], [90, 660, 4.0], [33, 705, 4.3], [7, 465, 9.3], [15, 180, 2.3]], [[12, 180, 10.5]]]\n",
      "Fitness: 25.47\n"
     ]
    }
   ],
   "execution_count": 19
  },
  {
   "metadata": {},
   "cell_type": "markdown",
   "source": "## 9. MAP-Elites",
   "id": "f89cc1abb7b31b"
  },
  {
   "metadata": {
    "ExecuteTime": {
     "end_time": "2025-04-21T17:05:13.209129Z",
     "start_time": "2025-04-21T17:05:13.192505Z"
    }
   },
   "cell_type": "code",
   "source": [
    "t = Timer()\n",
    "config = Config(w0, wt, P)\n",
    "config.set_total_evaluations(1)\n",
    "\n",
    "me = MapElites(config)\n",
    "t.start()\n",
    "me.run()\n",
    "t.stop()\n",
    "t_elapsed = t.result()\n",
    "# print(f\"Elapsed time: {f\"{t_elapsed} seconds\" if t_elapsed < 60 else f\"{round(t_elapsed / 60, 2)} minutes\"}\")\n",
    "print(f\"Elapsed time: {t_elapsed} seconds\")\n",
    "print(f\"Map Shape: {me.performances().shape}\")\n",
    "print(f\"Solutions Found: {len(me.solutions())}\")\n",
    "print(f\"Best Fitness: {me.performances().min()}\")\n",
    "print()\n",
    "# save_results(me, config, t_elapsed)"
   ],
   "id": "c2963ab4e6c042a5",
   "outputs": [
    {
     "name": "stdout",
     "output_type": "stream",
     "text": [
      "Executing MAP-Elites for:\n",
      "Initial Weight:     126 kg\n",
      "Target Weight:      64 kg\n",
      "Period:             12 weeks\n",
      "Initialisations:    1000\n",
      "Evaluations:        1\n",
      "----------------------------------------\n",
      "Iteration: 1 / 1\n",
      "Successfully executed MAP-Elites over 1 iterations.\n",
      "Elements skipped: 0\n",
      "Elapsed time: 0.0 seconds\n",
      "Map Shape: (20, 20, 20)\n",
      "Solutions Found: 1\n",
      "Best Fitness: 34.13\n",
      "\n"
     ]
    }
   ],
   "execution_count": 20
  },
  {
   "metadata": {
    "ExecuteTime": {
     "end_time": "2025-04-21T17:05:13.263190Z",
     "start_time": "2025-04-21T17:05:13.255914Z"
    }
   },
   "cell_type": "code",
   "source": [
    "solutions = me.solutions()\n",
    "params = []\n",
    "\n",
    "for i in range(len(solutions)):\n",
    "    s = solutions[i]\n",
    "    es = s.exercises()\n",
    "    row = [\n",
    "        s.features(),\n",
    "        s.fitness(),\n",
    "        s.schedule_to_base(2),\n",
    "        [(e.exercise_index(), e.duration(), e.schedule_to_base(2)) for e in es],\n",
    "    ]\n",
    "    params.append(row)\n",
    "    \n",
    "data_df = pd.DataFrame(params, columns=[\"features\", \"fitness\", \"base2_schedule\", \"exercises\", ])\n",
    "data_df"
   ],
   "id": "2ef5068fb3d9a875",
   "outputs": [
    {
     "data": {
      "text/plain": [
       "      features  fitness base2_schedule  \\\n",
       "0  (6, 13, 10)    34.13        1111111   \n",
       "\n",
       "                                           exercises  \n",
       "0  [(69, 675, 1001101), (78, 135, 0101111), (85, ...  "
      ],
      "text/html": [
       "<div>\n",
       "<style scoped>\n",
       "    .dataframe tbody tr th:only-of-type {\n",
       "        vertical-align: middle;\n",
       "    }\n",
       "\n",
       "    .dataframe tbody tr th {\n",
       "        vertical-align: top;\n",
       "    }\n",
       "\n",
       "    .dataframe thead th {\n",
       "        text-align: right;\n",
       "    }\n",
       "</style>\n",
       "<table border=\"1\" class=\"dataframe\">\n",
       "  <thead>\n",
       "    <tr style=\"text-align: right;\">\n",
       "      <th></th>\n",
       "      <th>features</th>\n",
       "      <th>fitness</th>\n",
       "      <th>base2_schedule</th>\n",
       "      <th>exercises</th>\n",
       "    </tr>\n",
       "  </thead>\n",
       "  <tbody>\n",
       "    <tr>\n",
       "      <th>0</th>\n",
       "      <td>(6, 13, 10)</td>\n",
       "      <td>34.13</td>\n",
       "      <td>1111111</td>\n",
       "      <td>[(69, 675, 1001101), (78, 135, 0101111), (85, ...</td>\n",
       "    </tr>\n",
       "  </tbody>\n",
       "</table>\n",
       "</div>"
      ]
     },
     "execution_count": 21,
     "metadata": {},
     "output_type": "execute_result"
    }
   ],
   "execution_count": 21
  },
  {
   "metadata": {
    "ExecuteTime": {
     "end_time": "2025-04-21T17:05:13.299980Z",
     "start_time": "2025-04-21T17:05:13.294601Z"
    }
   },
   "cell_type": "code",
   "source": [
    "features_set = set(data_df.T.loc['features'])\n",
    "len(features_set)"
   ],
   "id": "36f042cace639e51",
   "outputs": [
    {
     "data": {
      "text/plain": [
       "1"
      ]
     },
     "execution_count": 22,
     "metadata": {},
     "output_type": "execute_result"
    }
   ],
   "execution_count": 22
  },
  {
   "metadata": {},
   "cell_type": "markdown",
   "source": "## 10. Statistics",
   "id": "d849c3f076da9790"
  },
  {
   "metadata": {
    "ExecuteTime": {
     "end_time": "2025-04-21T17:05:13.357199Z",
     "start_time": "2025-04-21T17:05:13.346406Z"
    }
   },
   "cell_type": "code",
   "source": [
    "stats = Statistics(me)\n",
    "stats_df = stats.summarise()\n",
    "stats_df"
   ],
   "id": "add0d06b83008fc5",
   "outputs": [
    {
     "data": {
      "text/plain": [
       "                     Mean  Standard Deviation  Maximum  Minimum\n",
       "Performance         34.13                0.00    34.13    34.13\n",
       "Exercise Duration  308.57              257.21   705.00   135.00\n",
       "MET Value            5.29                3.90    10.60     3.30\n",
       "Exercises/Day        3.14                0.64     4.00     2.00"
      ],
      "text/html": [
       "<div>\n",
       "<style scoped>\n",
       "    .dataframe tbody tr th:only-of-type {\n",
       "        vertical-align: middle;\n",
       "    }\n",
       "\n",
       "    .dataframe tbody tr th {\n",
       "        vertical-align: top;\n",
       "    }\n",
       "\n",
       "    .dataframe thead th {\n",
       "        text-align: right;\n",
       "    }\n",
       "</style>\n",
       "<table border=\"1\" class=\"dataframe\">\n",
       "  <thead>\n",
       "    <tr style=\"text-align: right;\">\n",
       "      <th></th>\n",
       "      <th>Mean</th>\n",
       "      <th>Standard Deviation</th>\n",
       "      <th>Maximum</th>\n",
       "      <th>Minimum</th>\n",
       "    </tr>\n",
       "  </thead>\n",
       "  <tbody>\n",
       "    <tr>\n",
       "      <th>Performance</th>\n",
       "      <td>34.13</td>\n",
       "      <td>0.00</td>\n",
       "      <td>34.13</td>\n",
       "      <td>34.13</td>\n",
       "    </tr>\n",
       "    <tr>\n",
       "      <th>Exercise Duration</th>\n",
       "      <td>308.57</td>\n",
       "      <td>257.21</td>\n",
       "      <td>705.00</td>\n",
       "      <td>135.00</td>\n",
       "    </tr>\n",
       "    <tr>\n",
       "      <th>MET Value</th>\n",
       "      <td>5.29</td>\n",
       "      <td>3.90</td>\n",
       "      <td>10.60</td>\n",
       "      <td>3.30</td>\n",
       "    </tr>\n",
       "    <tr>\n",
       "      <th>Exercises/Day</th>\n",
       "      <td>3.14</td>\n",
       "      <td>0.64</td>\n",
       "      <td>4.00</td>\n",
       "      <td>2.00</td>\n",
       "    </tr>\n",
       "  </tbody>\n",
       "</table>\n",
       "</div>"
      ]
     },
     "execution_count": 23,
     "metadata": {},
     "output_type": "execute_result"
    }
   ],
   "execution_count": 23
  },
  {
   "metadata": {
    "ExecuteTime": {
     "end_time": "2025-04-21T17:05:13.425288Z",
     "start_time": "2025-04-21T17:05:13.416510Z"
    }
   },
   "cell_type": "code",
   "source": [
    "stats_df_detailed = stats.summarise(detailed=True)\n",
    "stats_df_detailed"
   ],
   "id": "cdd5c9bc9da9b09f",
   "outputs": [
    {
     "data": {
      "text/plain": [
       "   mean_met   std_met  mean_duration  std_duration week_schedule  \\\n",
       "0  5.292857  3.902648     308.571429    257.209813       1111111   \n",
       "\n",
       "   total_exercises  mean_frequency  performance  \n",
       "0               22             4.4        34.13  "
      ],
      "text/html": [
       "<div>\n",
       "<style scoped>\n",
       "    .dataframe tbody tr th:only-of-type {\n",
       "        vertical-align: middle;\n",
       "    }\n",
       "\n",
       "    .dataframe tbody tr th {\n",
       "        vertical-align: top;\n",
       "    }\n",
       "\n",
       "    .dataframe thead th {\n",
       "        text-align: right;\n",
       "    }\n",
       "</style>\n",
       "<table border=\"1\" class=\"dataframe\">\n",
       "  <thead>\n",
       "    <tr style=\"text-align: right;\">\n",
       "      <th></th>\n",
       "      <th>mean_met</th>\n",
       "      <th>std_met</th>\n",
       "      <th>mean_duration</th>\n",
       "      <th>std_duration</th>\n",
       "      <th>week_schedule</th>\n",
       "      <th>total_exercises</th>\n",
       "      <th>mean_frequency</th>\n",
       "      <th>performance</th>\n",
       "    </tr>\n",
       "  </thead>\n",
       "  <tbody>\n",
       "    <tr>\n",
       "      <th>0</th>\n",
       "      <td>5.292857</td>\n",
       "      <td>3.902648</td>\n",
       "      <td>308.571429</td>\n",
       "      <td>257.209813</td>\n",
       "      <td>1111111</td>\n",
       "      <td>22</td>\n",
       "      <td>4.4</td>\n",
       "      <td>34.13</td>\n",
       "    </tr>\n",
       "  </tbody>\n",
       "</table>\n",
       "</div>"
      ]
     },
     "execution_count": 24,
     "metadata": {},
     "output_type": "execute_result"
    }
   ],
   "execution_count": 24
  },
  {
   "metadata": {},
   "cell_type": "markdown",
   "source": "## Analysis",
   "id": "2f481b4110bf5016"
  },
  {
   "metadata": {},
   "cell_type": "markdown",
   "source": "### Heat Maps",
   "id": "18975cfc4591dbf7"
  },
  {
   "metadata": {
    "ExecuteTime": {
     "end_time": "2025-04-21T17:05:13.465174Z",
     "start_time": "2025-04-21T17:05:13.456449Z"
    }
   },
   "cell_type": "code",
   "source": [
    "# Test data\n",
    "adam = {\"initial_weight\": 123, \"target_weight\": 65, \"period\": 4}\n",
    "bryan = {\"initial_weight\": 130, \"target_weight\": 66, \"period\": 4 * 6}\n",
    "charlie = {\"initial_weight\": 124, \"target_weight\": 63, \"period\": 4 * 12}\n",
    "derek = {\"initial_weight\": 200, \"target_weight\": 80, \"period\": 4}\n",
    "eline = {\"initial_weight\": 198, \"target_weight\": 72, \"period\": 4 * 6}\n",
    "frederick = {\"initial_weight\": 205, \"target_weight\": 70, \"period\": 4 * 12}\n",
    "gabriel = {\"initial_weight\": 92, \"target_weight\": 68, \"period\": 4}\n",
    "hugo = {\"initial_weight\": 89, \"target_weight\": 66, \"period\": 4 * 6}\n",
    "isabelle = {\"initial_weight\": 95, \"target_weight\": 67, \"period\": 4 * 12}\n",
    "\n",
    "# Create DataFrame\n",
    "input_df = pd.DataFrame(\n",
    "    [\n",
    "        adam, bryan, charlie, derek, eline, frederick,\n",
    "        gabriel, hugo, isabelle\n",
    "    ],\n",
    "    index=[\n",
    "        \"Adam\", \"Bryan\", \"Charlie\", \"Derek\", \"Eline\", \"Frederick\",\n",
    "        \"Gabriel\", \"Hugo\", \"Isabelle\"\n",
    "    ]\n",
    ")\n",
    "indexes = input_df.index\n",
    "input_df"
   ],
   "id": "e02bb7414f15544d",
   "outputs": [
    {
     "data": {
      "text/plain": [
       "           initial_weight  target_weight  period\n",
       "Adam                  123             65       4\n",
       "Bryan                 130             66      24\n",
       "Charlie               124             63      48\n",
       "Derek                 200             80       4\n",
       "Eline                 198             72      24\n",
       "Frederick             205             70      48\n",
       "Gabriel                92             68       4\n",
       "Hugo                   89             66      24\n",
       "Isabelle               95             67      48"
      ],
      "text/html": [
       "<div>\n",
       "<style scoped>\n",
       "    .dataframe tbody tr th:only-of-type {\n",
       "        vertical-align: middle;\n",
       "    }\n",
       "\n",
       "    .dataframe tbody tr th {\n",
       "        vertical-align: top;\n",
       "    }\n",
       "\n",
       "    .dataframe thead th {\n",
       "        text-align: right;\n",
       "    }\n",
       "</style>\n",
       "<table border=\"1\" class=\"dataframe\">\n",
       "  <thead>\n",
       "    <tr style=\"text-align: right;\">\n",
       "      <th></th>\n",
       "      <th>initial_weight</th>\n",
       "      <th>target_weight</th>\n",
       "      <th>period</th>\n",
       "    </tr>\n",
       "  </thead>\n",
       "  <tbody>\n",
       "    <tr>\n",
       "      <th>Adam</th>\n",
       "      <td>123</td>\n",
       "      <td>65</td>\n",
       "      <td>4</td>\n",
       "    </tr>\n",
       "    <tr>\n",
       "      <th>Bryan</th>\n",
       "      <td>130</td>\n",
       "      <td>66</td>\n",
       "      <td>24</td>\n",
       "    </tr>\n",
       "    <tr>\n",
       "      <th>Charlie</th>\n",
       "      <td>124</td>\n",
       "      <td>63</td>\n",
       "      <td>48</td>\n",
       "    </tr>\n",
       "    <tr>\n",
       "      <th>Derek</th>\n",
       "      <td>200</td>\n",
       "      <td>80</td>\n",
       "      <td>4</td>\n",
       "    </tr>\n",
       "    <tr>\n",
       "      <th>Eline</th>\n",
       "      <td>198</td>\n",
       "      <td>72</td>\n",
       "      <td>24</td>\n",
       "    </tr>\n",
       "    <tr>\n",
       "      <th>Frederick</th>\n",
       "      <td>205</td>\n",
       "      <td>70</td>\n",
       "      <td>48</td>\n",
       "    </tr>\n",
       "    <tr>\n",
       "      <th>Gabriel</th>\n",
       "      <td>92</td>\n",
       "      <td>68</td>\n",
       "      <td>4</td>\n",
       "    </tr>\n",
       "    <tr>\n",
       "      <th>Hugo</th>\n",
       "      <td>89</td>\n",
       "      <td>66</td>\n",
       "      <td>24</td>\n",
       "    </tr>\n",
       "    <tr>\n",
       "      <th>Isabelle</th>\n",
       "      <td>95</td>\n",
       "      <td>67</td>\n",
       "      <td>48</td>\n",
       "    </tr>\n",
       "  </tbody>\n",
       "</table>\n",
       "</div>"
      ]
     },
     "execution_count": 25,
     "metadata": {},
     "output_type": "execute_result"
    }
   ],
   "execution_count": 25
  },
  {
   "metadata": {
    "ExecuteTime": {
     "end_time": "2025-04-21T17:05:13.677477Z",
     "start_time": "2025-04-21T17:05:13.571178Z"
    }
   },
   "cell_type": "code",
   "source": "print(input_df.to_latex())",
   "id": "6c6cd6631ccf3b7d",
   "outputs": [
    {
     "name": "stdout",
     "output_type": "stream",
     "text": [
      "\\begin{tabular}{lrrr}\n",
      "\\toprule\n",
      " & initial_weight & target_weight & period \\\\\n",
      "\\midrule\n",
      "Adam & 123 & 65 & 4 \\\\\n",
      "Bryan & 130 & 66 & 24 \\\\\n",
      "Charlie & 124 & 63 & 48 \\\\\n",
      "Derek & 200 & 80 & 4 \\\\\n",
      "Eline & 198 & 72 & 24 \\\\\n",
      "Frederick & 205 & 70 & 48 \\\\\n",
      "Gabriel & 92 & 68 & 4 \\\\\n",
      "Hugo & 89 & 66 & 24 \\\\\n",
      "Isabelle & 95 & 67 & 48 \\\\\n",
      "\\bottomrule\n",
      "\\end{tabular}\n",
      "\n"
     ]
    }
   ],
   "execution_count": 26
  },
  {
   "metadata": {
    "ExecuteTime": {
     "end_time": "2025-04-21T17:05:13.725543Z",
     "start_time": "2025-04-21T17:05:13.716604Z"
    }
   },
   "cell_type": "code",
   "source": [
    "output_df = pd.DataFrame(\n",
    "    index=indexes,\n",
    "    columns=[\"weight_difference\",\"P\",\"solutions\", \"execution_t\", \"best_fitness\"],\n",
    ")\n",
    "output_df"
   ],
   "id": "f55c45c1e0baf7f6",
   "outputs": [
    {
     "data": {
      "text/plain": [
       "          weight_difference    P solutions execution_t best_fitness\n",
       "Adam                    NaN  NaN       NaN         NaN          NaN\n",
       "Bryan                   NaN  NaN       NaN         NaN          NaN\n",
       "Charlie                 NaN  NaN       NaN         NaN          NaN\n",
       "Derek                   NaN  NaN       NaN         NaN          NaN\n",
       "Eline                   NaN  NaN       NaN         NaN          NaN\n",
       "Frederick               NaN  NaN       NaN         NaN          NaN\n",
       "Gabriel                 NaN  NaN       NaN         NaN          NaN\n",
       "Hugo                    NaN  NaN       NaN         NaN          NaN\n",
       "Isabelle                NaN  NaN       NaN         NaN          NaN"
      ],
      "text/html": [
       "<div>\n",
       "<style scoped>\n",
       "    .dataframe tbody tr th:only-of-type {\n",
       "        vertical-align: middle;\n",
       "    }\n",
       "\n",
       "    .dataframe tbody tr th {\n",
       "        vertical-align: top;\n",
       "    }\n",
       "\n",
       "    .dataframe thead th {\n",
       "        text-align: right;\n",
       "    }\n",
       "</style>\n",
       "<table border=\"1\" class=\"dataframe\">\n",
       "  <thead>\n",
       "    <tr style=\"text-align: right;\">\n",
       "      <th></th>\n",
       "      <th>weight_difference</th>\n",
       "      <th>P</th>\n",
       "      <th>solutions</th>\n",
       "      <th>execution_t</th>\n",
       "      <th>best_fitness</th>\n",
       "    </tr>\n",
       "  </thead>\n",
       "  <tbody>\n",
       "    <tr>\n",
       "      <th>Adam</th>\n",
       "      <td>NaN</td>\n",
       "      <td>NaN</td>\n",
       "      <td>NaN</td>\n",
       "      <td>NaN</td>\n",
       "      <td>NaN</td>\n",
       "    </tr>\n",
       "    <tr>\n",
       "      <th>Bryan</th>\n",
       "      <td>NaN</td>\n",
       "      <td>NaN</td>\n",
       "      <td>NaN</td>\n",
       "      <td>NaN</td>\n",
       "      <td>NaN</td>\n",
       "    </tr>\n",
       "    <tr>\n",
       "      <th>Charlie</th>\n",
       "      <td>NaN</td>\n",
       "      <td>NaN</td>\n",
       "      <td>NaN</td>\n",
       "      <td>NaN</td>\n",
       "      <td>NaN</td>\n",
       "    </tr>\n",
       "    <tr>\n",
       "      <th>Derek</th>\n",
       "      <td>NaN</td>\n",
       "      <td>NaN</td>\n",
       "      <td>NaN</td>\n",
       "      <td>NaN</td>\n",
       "      <td>NaN</td>\n",
       "    </tr>\n",
       "    <tr>\n",
       "      <th>Eline</th>\n",
       "      <td>NaN</td>\n",
       "      <td>NaN</td>\n",
       "      <td>NaN</td>\n",
       "      <td>NaN</td>\n",
       "      <td>NaN</td>\n",
       "    </tr>\n",
       "    <tr>\n",
       "      <th>Frederick</th>\n",
       "      <td>NaN</td>\n",
       "      <td>NaN</td>\n",
       "      <td>NaN</td>\n",
       "      <td>NaN</td>\n",
       "      <td>NaN</td>\n",
       "    </tr>\n",
       "    <tr>\n",
       "      <th>Gabriel</th>\n",
       "      <td>NaN</td>\n",
       "      <td>NaN</td>\n",
       "      <td>NaN</td>\n",
       "      <td>NaN</td>\n",
       "      <td>NaN</td>\n",
       "    </tr>\n",
       "    <tr>\n",
       "      <th>Hugo</th>\n",
       "      <td>NaN</td>\n",
       "      <td>NaN</td>\n",
       "      <td>NaN</td>\n",
       "      <td>NaN</td>\n",
       "      <td>NaN</td>\n",
       "    </tr>\n",
       "    <tr>\n",
       "      <th>Isabelle</th>\n",
       "      <td>NaN</td>\n",
       "      <td>NaN</td>\n",
       "      <td>NaN</td>\n",
       "      <td>NaN</td>\n",
       "      <td>NaN</td>\n",
       "    </tr>\n",
       "  </tbody>\n",
       "</table>\n",
       "</div>"
      ]
     },
     "execution_count": 27,
     "metadata": {},
     "output_type": "execute_result"
    }
   ],
   "execution_count": 27
  },
  {
   "metadata": {
    "ExecuteTime": {
     "end_time": "2025-04-21T17:05:13.768959Z",
     "start_time": "2025-04-21T17:05:13.761683Z"
    }
   },
   "cell_type": "code",
   "source": [
    "def heat_maps(config, map_elites, save=False, show=False, instance_title=None, fname=None):\n",
    "    w0 = config.initial_weight()\n",
    "    wt = config.target_weight()\n",
    "    P = config.period()\n",
    "    initialisations = config.total_initialisations()\n",
    "    evaluations = config.total_evaluations()\n",
    "    \n",
    "    cmap = clrs.LinearSegmentedColormap.from_list('my_map', [(0, 'red'), (1, 'white')])\n",
    "    performances = map_elites.performances(True)\n",
    "    \n",
    "    shape = (1, 3)\n",
    "    labels = ['Mean Exercise Duration', 'Mean MET', 'Mean Frequencies']\n",
    "    label_size = 14\n",
    "    performances_2d = [np.min(performances, axis=i) for i in range(2, -1, -1)]\n",
    "    \n",
    "    fig, [ax1, ax2, ax3] = plt.subplots(shape[0], shape[1], figsize=(10, 4), sharey=True)\n",
    "    \n",
    "    ax1.imshow(performances_2d[0], cmap=cmap, origin='lower')\n",
    "    ax2.imshow(performances_2d[1], cmap=cmap, origin='lower')\n",
    "    ax3.imshow(performances_2d[2], cmap=cmap, origin='lower')\n",
    "    \n",
    "    ax1.set_xlabel(labels[0], fontsize=label_size)\n",
    "    ax2.set_xlabel(labels[2], fontsize=label_size)\n",
    "    ax3.set_xlabel(labels[2], fontsize=label_size)\n",
    "    \n",
    "    ax1.set_ylabel(labels[1], fontsize=label_size)\n",
    "    ax2.set_ylabel(labels[1], fontsize=label_size)\n",
    "    ax3.set_ylabel(labels[0], fontsize=label_size)\n",
    "    \n",
    "    plt.tight_layout()\n",
    "    \n",
    "    # suptitle = f\"MAP-Elites Minimum Heatmaps For {instance_title if instance_title is not None else f\"$w_0={w0}$, $w_θ={wt}$, $P={P}$, $k_{'{'}init{'}'}={initialisations}$, $k_{'{'}evals{'}'}={evaluations}$\"}\" \n",
    "    # # fig.suptitle(suptitle,fontsize=18, y=0.65)\n",
    "    \n",
    "    if save:\n",
    "        fig_name = f\"./../results/heat_maps/{fname if fname is not None else f\"{w0}_{wt}_{P}_{initialisations}_{evaluations}\"}.png\"\n",
    "        plt.savefig(fig_name)"
   ],
   "id": "fae1a3a8a4ddbd45",
   "outputs": [],
   "execution_count": 28
  },
  {
   "metadata": {},
   "cell_type": "code",
   "source": [
    "t = Timer()\n",
    "counter = 0\n",
    "\n",
    "for i in indexes:\n",
    "    counter += 1\n",
    "    data = input_df.loc[i]\n",
    "    config = Config(data.initial_weight, data.target_weight, data.period)\n",
    "    config.set_total_evaluations(10000)\n",
    "    \n",
    "    me = MapElites(config)\n",
    "    t.start()\n",
    "    me.run()\n",
    "    t.stop()\n",
    "    t_elapsed = t.result()\n",
    "    \n",
    "    heat_maps(config, me, save=True, show=False, fname=f\"map_{i.lower()}.png\")\n",
    "    stats = Statistics(me)\n",
    "    \n",
    "    print(f\"Elapsed time: {t_elapsed} seconds\")\n",
    "    print(f\"Solutions Found: {len(me.solutions())}\")\n",
    "    print(f\"Best Fitness: {me.performances().min()}\")\n",
    "    \n",
    "    output_df.loc[i] = [\n",
    "        data.initial_weight - data.target_weight,\n",
    "        data.period,\n",
    "        stats.count_solutions(),\n",
    "        t_elapsed,\n",
    "        stats.best_quality()\n",
    "    ]\n",
    "    \n",
    "    ipd.clear_output(wait=True)\n",
    "output_df"
   ],
   "id": "70f64e6f4f9cbe13",
   "execution_count": 29,
   "outputs": [
    {
     "name": "stdout",
     "output_type": "stream",
     "text": [
      "Iteration: 3808 / 10000"
     ]
    },
    {
     "ename": "KeyboardInterrupt",
     "evalue": "",
     "output_type": "error",
     "traceback": [
      "\u001B[1;31m---------------------------------------------------------------------------\u001B[0m",
      "\u001B[1;31mKeyboardInterrupt\u001B[0m                         Traceback (most recent call last)",
      "Cell \u001B[1;32mIn[29], line 12\u001B[0m\n\u001B[0;32m     10\u001B[0m me \u001B[38;5;241m=\u001B[39m MapElites(config)\n\u001B[0;32m     11\u001B[0m t\u001B[38;5;241m.\u001B[39mstart()\n\u001B[1;32m---> 12\u001B[0m me\u001B[38;5;241m.\u001B[39mrun()\n\u001B[0;32m     13\u001B[0m t\u001B[38;5;241m.\u001B[39mstop()\n\u001B[0;32m     14\u001B[0m t_elapsed \u001B[38;5;241m=\u001B[39m t\u001B[38;5;241m.\u001B[39mresult()\n",
      "File \u001B[1;32mD:\\Projects\\honours-project\\calorieBurnoutSchedule\\src\\map_elites.py:80\u001B[0m, in \u001B[0;36mMapElites.run\u001B[1;34m(self)\u001B[0m\n\u001B[0;32m     78\u001B[0m     x \u001B[38;5;241m=\u001B[39m Schedule(Chromosome(\u001B[38;5;28mself\u001B[39m\u001B[38;5;241m.\u001B[39m_config), \u001B[38;5;28mself\u001B[39m\u001B[38;5;241m.\u001B[39m_config)\n\u001B[0;32m     79\u001B[0m \u001B[38;5;28;01melse\u001B[39;00m:\n\u001B[1;32m---> 80\u001B[0m     x \u001B[38;5;241m=\u001B[39m deepcopy(\u001B[38;5;28mself\u001B[39m\u001B[38;5;241m.\u001B[39m_select_random())\n\u001B[0;32m     81\u001B[0m     x\u001B[38;5;241m.\u001B[39mmutate()\n\u001B[0;32m     82\u001B[0m j, k, l \u001B[38;5;241m=\u001B[39m x\u001B[38;5;241m.\u001B[39mfeatures()\n",
      "File \u001B[1;32mE:\\Anaconda\\Anaconda\\Lib\\copy.py:162\u001B[0m, in \u001B[0;36mdeepcopy\u001B[1;34m(x, memo, _nil)\u001B[0m\n\u001B[0;32m    160\u001B[0m                 y \u001B[38;5;241m=\u001B[39m x\n\u001B[0;32m    161\u001B[0m             \u001B[38;5;28;01melse\u001B[39;00m:\n\u001B[1;32m--> 162\u001B[0m                 y \u001B[38;5;241m=\u001B[39m _reconstruct(x, memo, \u001B[38;5;241m*\u001B[39mrv)\n\u001B[0;32m    164\u001B[0m \u001B[38;5;66;03m# If is its own copy, don't memoize.\u001B[39;00m\n\u001B[0;32m    165\u001B[0m \u001B[38;5;28;01mif\u001B[39;00m y \u001B[38;5;129;01mis\u001B[39;00m \u001B[38;5;129;01mnot\u001B[39;00m x:\n",
      "File \u001B[1;32mE:\\Anaconda\\Anaconda\\Lib\\copy.py:259\u001B[0m, in \u001B[0;36m_reconstruct\u001B[1;34m(x, memo, func, args, state, listiter, dictiter, deepcopy)\u001B[0m\n\u001B[0;32m    257\u001B[0m \u001B[38;5;28;01mif\u001B[39;00m state \u001B[38;5;129;01mis\u001B[39;00m \u001B[38;5;129;01mnot\u001B[39;00m \u001B[38;5;28;01mNone\u001B[39;00m:\n\u001B[0;32m    258\u001B[0m     \u001B[38;5;28;01mif\u001B[39;00m deep:\n\u001B[1;32m--> 259\u001B[0m         state \u001B[38;5;241m=\u001B[39m deepcopy(state, memo)\n\u001B[0;32m    260\u001B[0m     \u001B[38;5;28;01mif\u001B[39;00m \u001B[38;5;28mhasattr\u001B[39m(y, \u001B[38;5;124m'\u001B[39m\u001B[38;5;124m__setstate__\u001B[39m\u001B[38;5;124m'\u001B[39m):\n\u001B[0;32m    261\u001B[0m         y\u001B[38;5;241m.\u001B[39m__setstate__(state)\n",
      "File \u001B[1;32mE:\\Anaconda\\Anaconda\\Lib\\copy.py:136\u001B[0m, in \u001B[0;36mdeepcopy\u001B[1;34m(x, memo, _nil)\u001B[0m\n\u001B[0;32m    134\u001B[0m copier \u001B[38;5;241m=\u001B[39m _deepcopy_dispatch\u001B[38;5;241m.\u001B[39mget(\u001B[38;5;28mcls\u001B[39m)\n\u001B[0;32m    135\u001B[0m \u001B[38;5;28;01mif\u001B[39;00m copier \u001B[38;5;129;01mis\u001B[39;00m \u001B[38;5;129;01mnot\u001B[39;00m \u001B[38;5;28;01mNone\u001B[39;00m:\n\u001B[1;32m--> 136\u001B[0m     y \u001B[38;5;241m=\u001B[39m copier(x, memo)\n\u001B[0;32m    137\u001B[0m \u001B[38;5;28;01melse\u001B[39;00m:\n\u001B[0;32m    138\u001B[0m     \u001B[38;5;28;01mif\u001B[39;00m \u001B[38;5;28missubclass\u001B[39m(\u001B[38;5;28mcls\u001B[39m, \u001B[38;5;28mtype\u001B[39m):\n",
      "File \u001B[1;32mE:\\Anaconda\\Anaconda\\Lib\\copy.py:221\u001B[0m, in \u001B[0;36m_deepcopy_dict\u001B[1;34m(x, memo, deepcopy)\u001B[0m\n\u001B[0;32m    219\u001B[0m memo[\u001B[38;5;28mid\u001B[39m(x)] \u001B[38;5;241m=\u001B[39m y\n\u001B[0;32m    220\u001B[0m \u001B[38;5;28;01mfor\u001B[39;00m key, value \u001B[38;5;129;01min\u001B[39;00m x\u001B[38;5;241m.\u001B[39mitems():\n\u001B[1;32m--> 221\u001B[0m     y[deepcopy(key, memo)] \u001B[38;5;241m=\u001B[39m deepcopy(value, memo)\n\u001B[0;32m    222\u001B[0m \u001B[38;5;28;01mreturn\u001B[39;00m y\n",
      "File \u001B[1;32mE:\\Anaconda\\Anaconda\\Lib\\copy.py:162\u001B[0m, in \u001B[0;36mdeepcopy\u001B[1;34m(x, memo, _nil)\u001B[0m\n\u001B[0;32m    160\u001B[0m                 y \u001B[38;5;241m=\u001B[39m x\n\u001B[0;32m    161\u001B[0m             \u001B[38;5;28;01melse\u001B[39;00m:\n\u001B[1;32m--> 162\u001B[0m                 y \u001B[38;5;241m=\u001B[39m _reconstruct(x, memo, \u001B[38;5;241m*\u001B[39mrv)\n\u001B[0;32m    164\u001B[0m \u001B[38;5;66;03m# If is its own copy, don't memoize.\u001B[39;00m\n\u001B[0;32m    165\u001B[0m \u001B[38;5;28;01mif\u001B[39;00m y \u001B[38;5;129;01mis\u001B[39;00m \u001B[38;5;129;01mnot\u001B[39;00m x:\n",
      "File \u001B[1;32mE:\\Anaconda\\Anaconda\\Lib\\copy.py:259\u001B[0m, in \u001B[0;36m_reconstruct\u001B[1;34m(x, memo, func, args, state, listiter, dictiter, deepcopy)\u001B[0m\n\u001B[0;32m    257\u001B[0m \u001B[38;5;28;01mif\u001B[39;00m state \u001B[38;5;129;01mis\u001B[39;00m \u001B[38;5;129;01mnot\u001B[39;00m \u001B[38;5;28;01mNone\u001B[39;00m:\n\u001B[0;32m    258\u001B[0m     \u001B[38;5;28;01mif\u001B[39;00m deep:\n\u001B[1;32m--> 259\u001B[0m         state \u001B[38;5;241m=\u001B[39m deepcopy(state, memo)\n\u001B[0;32m    260\u001B[0m     \u001B[38;5;28;01mif\u001B[39;00m \u001B[38;5;28mhasattr\u001B[39m(y, \u001B[38;5;124m'\u001B[39m\u001B[38;5;124m__setstate__\u001B[39m\u001B[38;5;124m'\u001B[39m):\n\u001B[0;32m    261\u001B[0m         y\u001B[38;5;241m.\u001B[39m__setstate__(state)\n",
      "File \u001B[1;32mE:\\Anaconda\\Anaconda\\Lib\\copy.py:136\u001B[0m, in \u001B[0;36mdeepcopy\u001B[1;34m(x, memo, _nil)\u001B[0m\n\u001B[0;32m    134\u001B[0m copier \u001B[38;5;241m=\u001B[39m _deepcopy_dispatch\u001B[38;5;241m.\u001B[39mget(\u001B[38;5;28mcls\u001B[39m)\n\u001B[0;32m    135\u001B[0m \u001B[38;5;28;01mif\u001B[39;00m copier \u001B[38;5;129;01mis\u001B[39;00m \u001B[38;5;129;01mnot\u001B[39;00m \u001B[38;5;28;01mNone\u001B[39;00m:\n\u001B[1;32m--> 136\u001B[0m     y \u001B[38;5;241m=\u001B[39m copier(x, memo)\n\u001B[0;32m    137\u001B[0m \u001B[38;5;28;01melse\u001B[39;00m:\n\u001B[0;32m    138\u001B[0m     \u001B[38;5;28;01mif\u001B[39;00m \u001B[38;5;28missubclass\u001B[39m(\u001B[38;5;28mcls\u001B[39m, \u001B[38;5;28mtype\u001B[39m):\n",
      "File \u001B[1;32mE:\\Anaconda\\Anaconda\\Lib\\copy.py:221\u001B[0m, in \u001B[0;36m_deepcopy_dict\u001B[1;34m(x, memo, deepcopy)\u001B[0m\n\u001B[0;32m    219\u001B[0m memo[\u001B[38;5;28mid\u001B[39m(x)] \u001B[38;5;241m=\u001B[39m y\n\u001B[0;32m    220\u001B[0m \u001B[38;5;28;01mfor\u001B[39;00m key, value \u001B[38;5;129;01min\u001B[39;00m x\u001B[38;5;241m.\u001B[39mitems():\n\u001B[1;32m--> 221\u001B[0m     y[deepcopy(key, memo)] \u001B[38;5;241m=\u001B[39m deepcopy(value, memo)\n\u001B[0;32m    222\u001B[0m \u001B[38;5;28;01mreturn\u001B[39;00m y\n",
      "File \u001B[1;32mE:\\Anaconda\\Anaconda\\Lib\\copy.py:162\u001B[0m, in \u001B[0;36mdeepcopy\u001B[1;34m(x, memo, _nil)\u001B[0m\n\u001B[0;32m    160\u001B[0m                 y \u001B[38;5;241m=\u001B[39m x\n\u001B[0;32m    161\u001B[0m             \u001B[38;5;28;01melse\u001B[39;00m:\n\u001B[1;32m--> 162\u001B[0m                 y \u001B[38;5;241m=\u001B[39m _reconstruct(x, memo, \u001B[38;5;241m*\u001B[39mrv)\n\u001B[0;32m    164\u001B[0m \u001B[38;5;66;03m# If is its own copy, don't memoize.\u001B[39;00m\n\u001B[0;32m    165\u001B[0m \u001B[38;5;28;01mif\u001B[39;00m y \u001B[38;5;129;01mis\u001B[39;00m \u001B[38;5;129;01mnot\u001B[39;00m x:\n",
      "File \u001B[1;32mE:\\Anaconda\\Anaconda\\Lib\\copy.py:259\u001B[0m, in \u001B[0;36m_reconstruct\u001B[1;34m(x, memo, func, args, state, listiter, dictiter, deepcopy)\u001B[0m\n\u001B[0;32m    257\u001B[0m \u001B[38;5;28;01mif\u001B[39;00m state \u001B[38;5;129;01mis\u001B[39;00m \u001B[38;5;129;01mnot\u001B[39;00m \u001B[38;5;28;01mNone\u001B[39;00m:\n\u001B[0;32m    258\u001B[0m     \u001B[38;5;28;01mif\u001B[39;00m deep:\n\u001B[1;32m--> 259\u001B[0m         state \u001B[38;5;241m=\u001B[39m deepcopy(state, memo)\n\u001B[0;32m    260\u001B[0m     \u001B[38;5;28;01mif\u001B[39;00m \u001B[38;5;28mhasattr\u001B[39m(y, \u001B[38;5;124m'\u001B[39m\u001B[38;5;124m__setstate__\u001B[39m\u001B[38;5;124m'\u001B[39m):\n\u001B[0;32m    261\u001B[0m         y\u001B[38;5;241m.\u001B[39m__setstate__(state)\n",
      "File \u001B[1;32mE:\\Anaconda\\Anaconda\\Lib\\copy.py:136\u001B[0m, in \u001B[0;36mdeepcopy\u001B[1;34m(x, memo, _nil)\u001B[0m\n\u001B[0;32m    134\u001B[0m copier \u001B[38;5;241m=\u001B[39m _deepcopy_dispatch\u001B[38;5;241m.\u001B[39mget(\u001B[38;5;28mcls\u001B[39m)\n\u001B[0;32m    135\u001B[0m \u001B[38;5;28;01mif\u001B[39;00m copier \u001B[38;5;129;01mis\u001B[39;00m \u001B[38;5;129;01mnot\u001B[39;00m \u001B[38;5;28;01mNone\u001B[39;00m:\n\u001B[1;32m--> 136\u001B[0m     y \u001B[38;5;241m=\u001B[39m copier(x, memo)\n\u001B[0;32m    137\u001B[0m \u001B[38;5;28;01melse\u001B[39;00m:\n\u001B[0;32m    138\u001B[0m     \u001B[38;5;28;01mif\u001B[39;00m \u001B[38;5;28missubclass\u001B[39m(\u001B[38;5;28mcls\u001B[39m, \u001B[38;5;28mtype\u001B[39m):\n",
      "File \u001B[1;32mE:\\Anaconda\\Anaconda\\Lib\\copy.py:221\u001B[0m, in \u001B[0;36m_deepcopy_dict\u001B[1;34m(x, memo, deepcopy)\u001B[0m\n\u001B[0;32m    219\u001B[0m memo[\u001B[38;5;28mid\u001B[39m(x)] \u001B[38;5;241m=\u001B[39m y\n\u001B[0;32m    220\u001B[0m \u001B[38;5;28;01mfor\u001B[39;00m key, value \u001B[38;5;129;01min\u001B[39;00m x\u001B[38;5;241m.\u001B[39mitems():\n\u001B[1;32m--> 221\u001B[0m     y[deepcopy(key, memo)] \u001B[38;5;241m=\u001B[39m deepcopy(value, memo)\n\u001B[0;32m    222\u001B[0m \u001B[38;5;28;01mreturn\u001B[39;00m y\n",
      "File \u001B[1;32mE:\\Anaconda\\Anaconda\\Lib\\copy.py:143\u001B[0m, in \u001B[0;36mdeepcopy\u001B[1;34m(x, memo, _nil)\u001B[0m\n\u001B[0;32m    141\u001B[0m copier \u001B[38;5;241m=\u001B[39m \u001B[38;5;28mgetattr\u001B[39m(x, \u001B[38;5;124m\"\u001B[39m\u001B[38;5;124m__deepcopy__\u001B[39m\u001B[38;5;124m\"\u001B[39m, \u001B[38;5;28;01mNone\u001B[39;00m)\n\u001B[0;32m    142\u001B[0m \u001B[38;5;28;01mif\u001B[39;00m copier \u001B[38;5;129;01mis\u001B[39;00m \u001B[38;5;129;01mnot\u001B[39;00m \u001B[38;5;28;01mNone\u001B[39;00m:\n\u001B[1;32m--> 143\u001B[0m     y \u001B[38;5;241m=\u001B[39m copier(memo)\n\u001B[0;32m    144\u001B[0m \u001B[38;5;28;01melse\u001B[39;00m:\n\u001B[0;32m    145\u001B[0m     reductor \u001B[38;5;241m=\u001B[39m dispatch_table\u001B[38;5;241m.\u001B[39mget(\u001B[38;5;28mcls\u001B[39m)\n",
      "File \u001B[1;32mE:\\Anaconda\\Anaconda\\Lib\\site-packages\\pandas\\core\\generic.py:6829\u001B[0m, in \u001B[0;36mNDFrame.__deepcopy__\u001B[1;34m(self, memo)\u001B[0m\n\u001B[0;32m   6821\u001B[0m \u001B[38;5;129m@final\u001B[39m\n\u001B[0;32m   6822\u001B[0m \u001B[38;5;28;01mdef\u001B[39;00m \u001B[38;5;21m__deepcopy__\u001B[39m(\u001B[38;5;28mself\u001B[39m, memo\u001B[38;5;241m=\u001B[39m\u001B[38;5;28;01mNone\u001B[39;00m) \u001B[38;5;241m-\u001B[39m\u001B[38;5;241m>\u001B[39m Self:\n\u001B[0;32m   6823\u001B[0m \u001B[38;5;250m    \u001B[39m\u001B[38;5;124;03m\"\"\"\u001B[39;00m\n\u001B[0;32m   6824\u001B[0m \u001B[38;5;124;03m    Parameters\u001B[39;00m\n\u001B[0;32m   6825\u001B[0m \u001B[38;5;124;03m    ----------\u001B[39;00m\n\u001B[0;32m   6826\u001B[0m \u001B[38;5;124;03m    memo, default None\u001B[39;00m\n\u001B[0;32m   6827\u001B[0m \u001B[38;5;124;03m        Standard signature. Unused\u001B[39;00m\n\u001B[0;32m   6828\u001B[0m \u001B[38;5;124;03m    \"\"\"\u001B[39;00m\n\u001B[1;32m-> 6829\u001B[0m     \u001B[38;5;28;01mreturn\u001B[39;00m \u001B[38;5;28mself\u001B[39m\u001B[38;5;241m.\u001B[39mcopy(deep\u001B[38;5;241m=\u001B[39m\u001B[38;5;28;01mTrue\u001B[39;00m)\n",
      "File \u001B[1;32mE:\\Anaconda\\Anaconda\\Lib\\site-packages\\pandas\\core\\generic.py:6811\u001B[0m, in \u001B[0;36mNDFrame.copy\u001B[1;34m(self, deep)\u001B[0m\n\u001B[0;32m   6662\u001B[0m \u001B[38;5;129m@final\u001B[39m\n\u001B[0;32m   6663\u001B[0m \u001B[38;5;28;01mdef\u001B[39;00m \u001B[38;5;21mcopy\u001B[39m(\u001B[38;5;28mself\u001B[39m, deep: bool_t \u001B[38;5;241m|\u001B[39m \u001B[38;5;28;01mNone\u001B[39;00m \u001B[38;5;241m=\u001B[39m \u001B[38;5;28;01mTrue\u001B[39;00m) \u001B[38;5;241m-\u001B[39m\u001B[38;5;241m>\u001B[39m Self:\n\u001B[0;32m   6664\u001B[0m \u001B[38;5;250m    \u001B[39m\u001B[38;5;124;03m\"\"\"\u001B[39;00m\n\u001B[0;32m   6665\u001B[0m \u001B[38;5;124;03m    Make a copy of this object's indices and data.\u001B[39;00m\n\u001B[0;32m   6666\u001B[0m \n\u001B[1;32m   (...)\u001B[0m\n\u001B[0;32m   6809\u001B[0m \u001B[38;5;124;03m    dtype: int64\u001B[39;00m\n\u001B[0;32m   6810\u001B[0m \u001B[38;5;124;03m    \"\"\"\u001B[39;00m\n\u001B[1;32m-> 6811\u001B[0m     data \u001B[38;5;241m=\u001B[39m \u001B[38;5;28mself\u001B[39m\u001B[38;5;241m.\u001B[39m_mgr\u001B[38;5;241m.\u001B[39mcopy(deep\u001B[38;5;241m=\u001B[39mdeep)\n\u001B[0;32m   6812\u001B[0m     \u001B[38;5;28mself\u001B[39m\u001B[38;5;241m.\u001B[39m_clear_item_cache()\n\u001B[0;32m   6813\u001B[0m     \u001B[38;5;28;01mreturn\u001B[39;00m \u001B[38;5;28mself\u001B[39m\u001B[38;5;241m.\u001B[39m_constructor_from_mgr(data, axes\u001B[38;5;241m=\u001B[39mdata\u001B[38;5;241m.\u001B[39maxes)\u001B[38;5;241m.\u001B[39m__finalize__(\n\u001B[0;32m   6814\u001B[0m         \u001B[38;5;28mself\u001B[39m, method\u001B[38;5;241m=\u001B[39m\u001B[38;5;124m\"\u001B[39m\u001B[38;5;124mcopy\u001B[39m\u001B[38;5;124m\"\u001B[39m\n\u001B[0;32m   6815\u001B[0m     )\n",
      "File \u001B[1;32mE:\\Anaconda\\Anaconda\\Lib\\site-packages\\pandas\\core\\internals\\managers.py:600\u001B[0m, in \u001B[0;36mBaseBlockManager.copy\u001B[1;34m(self, deep)\u001B[0m\n\u001B[0;32m    598\u001B[0m     blknos \u001B[38;5;241m=\u001B[39m \u001B[38;5;28mself\u001B[39m\u001B[38;5;241m.\u001B[39m_blknos\n\u001B[0;32m    599\u001B[0m     \u001B[38;5;28;01mif\u001B[39;00m blknos \u001B[38;5;129;01mis\u001B[39;00m \u001B[38;5;129;01mnot\u001B[39;00m \u001B[38;5;28;01mNone\u001B[39;00m:\n\u001B[1;32m--> 600\u001B[0m         res\u001B[38;5;241m.\u001B[39m_blknos \u001B[38;5;241m=\u001B[39m blknos\u001B[38;5;241m.\u001B[39mcopy()\n\u001B[0;32m    601\u001B[0m         res\u001B[38;5;241m.\u001B[39m_blklocs \u001B[38;5;241m=\u001B[39m \u001B[38;5;28mself\u001B[39m\u001B[38;5;241m.\u001B[39m_blklocs\u001B[38;5;241m.\u001B[39mcopy()\n\u001B[0;32m    603\u001B[0m \u001B[38;5;28;01mif\u001B[39;00m deep:\n",
      "\u001B[1;31mKeyboardInterrupt\u001B[0m: "
     ]
    },
    {
     "data": {
      "text/plain": [
       "<Figure size 1000x400 with 3 Axes>"
      ],
      "image/png": "[encoded data removed]"
     },
     "metadata": {},
     "output_type": "display_data"
    },
    {
     "data": {
      "text/plain": [
       "<Figure size 1000x400 with 3 Axes>"
      ],
      "image/png": "[encoded data removed]"
     },
     "metadata": {},
     "output_type": "display_data"
    },
    {
     "data": {
      "text/plain": [
       "<Figure size 1000x400 with 3 Axes>"
      ],
      "image/png": "[encoded data removed]"
     },
     "metadata": {},
     "output_type": "display_data"
    }
   ]
  },
  {
   "metadata": {
    "ExecuteTime": {
     "end_time": "2025-04-21T17:05:35.175339200Z",
     "start_time": "2025-04-21T01:16:50.026063Z"
    }
   },
   "cell_type": "code",
   "source": "output_df",
   "id": "f2c90deb6e67af04",
   "outputs": [
    {
     "data": {
      "text/plain": [
       "          weight_difference   P solutions execution_t best_fitness\n",
       "Adam                     58   4      1190        4.77          0.0\n",
       "Bryan                    64  24      1293        5.36          0.0\n",
       "Charlie                  61  48      1236        7.11         0.09\n",
       "Derek                   120   4      1134        4.97         0.01\n",
       "Eline                   126  24      1253        5.78         0.02\n",
       "Frederick               135  48      1263        7.18         0.02\n",
       "Gabriel                  24   4      1175        4.64          0.0\n",
       "Hugo                     23  24      1204        5.63          0.0\n",
       "Isabelle                 28  48      1198        6.76         0.02"
      ],
      "text/html": [
       "<div>\n",
       "<style scoped>\n",
       "    .dataframe tbody tr th:only-of-type {\n",
       "        vertical-align: middle;\n",
       "    }\n",
       "\n",
       "    .dataframe tbody tr th {\n",
       "        vertical-align: top;\n",
       "    }\n",
       "\n",
       "    .dataframe thead th {\n",
       "        text-align: right;\n",
       "    }\n",
       "</style>\n",
       "<table border=\"1\" class=\"dataframe\">\n",
       "  <thead>\n",
       "    <tr style=\"text-align: right;\">\n",
       "      <th></th>\n",
       "      <th>weight_difference</th>\n",
       "      <th>P</th>\n",
       "      <th>solutions</th>\n",
       "      <th>execution_t</th>\n",
       "      <th>best_fitness</th>\n",
       "    </tr>\n",
       "  </thead>\n",
       "  <tbody>\n",
       "    <tr>\n",
       "      <th>Adam</th>\n",
       "      <td>58</td>\n",
       "      <td>4</td>\n",
       "      <td>1190</td>\n",
       "      <td>4.77</td>\n",
       "      <td>0.0</td>\n",
       "    </tr>\n",
       "    <tr>\n",
       "      <th>Bryan</th>\n",
       "      <td>64</td>\n",
       "      <td>24</td>\n",
       "      <td>1293</td>\n",
       "      <td>5.36</td>\n",
       "      <td>0.0</td>\n",
       "    </tr>\n",
       "    <tr>\n",
       "      <th>Charlie</th>\n",
       "      <td>61</td>\n",
       "      <td>48</td>\n",
       "      <td>1236</td>\n",
       "      <td>7.11</td>\n",
       "      <td>0.09</td>\n",
       "    </tr>\n",
       "    <tr>\n",
       "      <th>Derek</th>\n",
       "      <td>120</td>\n",
       "      <td>4</td>\n",
       "      <td>1134</td>\n",
       "      <td>4.97</td>\n",
       "      <td>0.01</td>\n",
       "    </tr>\n",
       "    <tr>\n",
       "      <th>Eline</th>\n",
       "      <td>126</td>\n",
       "      <td>24</td>\n",
       "      <td>1253</td>\n",
       "      <td>5.78</td>\n",
       "      <td>0.02</td>\n",
       "    </tr>\n",
       "    <tr>\n",
       "      <th>Frederick</th>\n",
       "      <td>135</td>\n",
       "      <td>48</td>\n",
       "      <td>1263</td>\n",
       "      <td>7.18</td>\n",
       "      <td>0.02</td>\n",
       "    </tr>\n",
       "    <tr>\n",
       "      <th>Gabriel</th>\n",
       "      <td>24</td>\n",
       "      <td>4</td>\n",
       "      <td>1175</td>\n",
       "      <td>4.64</td>\n",
       "      <td>0.0</td>\n",
       "    </tr>\n",
       "    <tr>\n",
       "      <th>Hugo</th>\n",
       "      <td>23</td>\n",
       "      <td>24</td>\n",
       "      <td>1204</td>\n",
       "      <td>5.63</td>\n",
       "      <td>0.0</td>\n",
       "    </tr>\n",
       "    <tr>\n",
       "      <th>Isabelle</th>\n",
       "      <td>28</td>\n",
       "      <td>48</td>\n",
       "      <td>1198</td>\n",
       "      <td>6.76</td>\n",
       "      <td>0.02</td>\n",
       "    </tr>\n",
       "  </tbody>\n",
       "</table>\n",
       "</div>"
      ]
     },
     "execution_count": 198,
     "metadata": {},
     "output_type": "execute_result"
    }
   ],
   "execution_count": 198
  },
  {
   "metadata": {
    "ExecuteTime": {
     "end_time": "2025-04-21T17:05:35.185308100Z",
     "start_time": "2025-04-21T01:22:14.490948Z"
    }
   },
   "cell_type": "code",
   "source": "print(output_df.loc[[i for i in ['Adam', 'Derek', 'Hugo', 'Isabelle']]].to_latex())",
   "id": "6daff450156a56dd",
   "outputs": [
    {
     "name": "stdout",
     "output_type": "stream",
     "text": [
      "\\begin{tabular}{llllll}\n",
      "\\toprule\n",
      " & weight_difference & P & solutions & execution_t & best_fitness \\\\\n",
      "\\midrule\n",
      "Adam & 58 & 4 & 1190 & 4.770000 & 0.000000 \\\\\n",
      "Derek & 120 & 4 & 1134 & 4.970000 & 0.010000 \\\\\n",
      "Hugo & 23 & 24 & 1204 & 5.630000 & 0.000000 \\\\\n",
      "Isabelle & 28 & 48 & 1198 & 6.760000 & 0.020000 \\\\\n",
      "\\bottomrule\n",
      "\\end{tabular}\n",
      "\n"
     ]
    }
   ],
   "execution_count": 206
  },
  {
   "metadata": {
    "ExecuteTime": {
     "end_time": "2025-04-21T17:05:35.210424400Z",
     "start_time": "2025-04-20T22:38:42.577961Z"
    }
   },
   "cell_type": "code",
   "source": [
    "fig, axes = plt.subplots(1, 3, figsize=(15, 5), sharex=True)\n",
    "fig.suptitle(\"Algorithm Performance For Different User Parameters\", size=20, y=1)\n",
    "\n",
    "# Custom colour maps\n",
    "cmap_perf = cmap_time = clrs.LinearSegmentedColormap.from_list('time_map', [(0, 'green'), (1, 'red')])\n",
    "cmap_sol = clrs.LinearSegmentedColormap.from_list('sol_map', [(0, 'red'), (1, 'green')])\n",
    "\n",
    "# Plot 1: Performance\n",
    "sc1 = axes[0].scatter(output_df.weight_difference, output_df.P, c=output_df.best_fitness, cmap=cmap_perf, s=100)\n",
    "axes[0].set_xlabel(\"Weight Difference (kg)\", fontsize=14)\n",
    "axes[0].set_ylabel(\"Period (weeks)\", fontsize=14)\n",
    "axes[0].set_title(\"Performance\", fontsize=16)\n",
    "plt.colorbar(sc1, ax=axes[0])\n",
    "\n",
    "# Plot 2: Execution Time\n",
    "sc2 = axes[1].scatter(output_df.weight_difference, output_df.P, c=output_df.execution_t, cmap=cmap_time, s=100)\n",
    "axes[1].set_xlabel(\"Weight Difference (kg)\", fontsize=14)\n",
    "# axes[1].set_ylabel(\"Period (weeks)\", fontsize=14)\n",
    "axes[1].set_title(\"Execution Time\", fontsize=16)\n",
    "plt.colorbar(sc2, ax=axes[1])\n",
    "\n",
    "# Plot 3: Solutions\n",
    "sc3 = axes[2].scatter(output_df.weight_difference, output_df.P, c=output_df.solutions, cmap=cmap_sol, s=100)\n",
    "axes[2].set_xlabel(\"Weight Difference (kg)\", fontsize=14)\n",
    "# axes[2].set_ylabel(\"Period (weeks)\", fontsize=14)\n",
    "axes[2].set_title(\"Solutions Found\", fontsize=16)\n",
    "plt.colorbar(sc3, ax=axes[2])\n",
    "\n",
    "fig.tight_layout()"
   ],
   "id": "35cd9c0f72445de4",
   "outputs": [
    {
     "data": {
      "text/plain": [
       "<Figure size 1500x500 with 6 Axes>"
      ],
      "image/png": "[encoded data removed]"
     },
     "metadata": {},
     "output_type": "display_data"
    }
   ],
   "execution_count": 183
  },
  {
   "metadata": {},
   "cell_type": "markdown",
   "source": "# Runtime Analysis",
   "id": "ea1afe0005da04a8"
  },
  {
   "metadata": {
    "ExecuteTime": {
     "end_time": "2025-04-21T17:05:35.210424400Z",
     "start_time": "2025-04-20T15:57:43.351109Z"
    }
   },
   "cell_type": "code",
   "source": "input_df",
   "id": "c7f34e6eb023a325",
   "outputs": [
    {
     "data": {
      "text/plain": [
       "       initial_weight  target_weight  period\n",
       "Bryan             124             64      12\n",
       "Bob               200             70     672\n",
       "Tania              60             50      12\n",
       "Paul               80             55     336\n",
       "Timmy              70             55     140\n",
       "John               96             64       4"
      ],
      "text/html": [
       "<div>\n",
       "<style scoped>\n",
       "    .dataframe tbody tr th:only-of-type {\n",
       "        vertical-align: middle;\n",
       "    }\n",
       "\n",
       "    .dataframe tbody tr th {\n",
       "        vertical-align: top;\n",
       "    }\n",
       "\n",
       "    .dataframe thead th {\n",
       "        text-align: right;\n",
       "    }\n",
       "</style>\n",
       "<table border=\"1\" class=\"dataframe\">\n",
       "  <thead>\n",
       "    <tr style=\"text-align: right;\">\n",
       "      <th></th>\n",
       "      <th>initial_weight</th>\n",
       "      <th>target_weight</th>\n",
       "      <th>period</th>\n",
       "    </tr>\n",
       "  </thead>\n",
       "  <tbody>\n",
       "    <tr>\n",
       "      <th>Bryan</th>\n",
       "      <td>124</td>\n",
       "      <td>64</td>\n",
       "      <td>12</td>\n",
       "    </tr>\n",
       "    <tr>\n",
       "      <th>Bob</th>\n",
       "      <td>200</td>\n",
       "      <td>70</td>\n",
       "      <td>672</td>\n",
       "    </tr>\n",
       "    <tr>\n",
       "      <th>Tania</th>\n",
       "      <td>60</td>\n",
       "      <td>50</td>\n",
       "      <td>12</td>\n",
       "    </tr>\n",
       "    <tr>\n",
       "      <th>Paul</th>\n",
       "      <td>80</td>\n",
       "      <td>55</td>\n",
       "      <td>336</td>\n",
       "    </tr>\n",
       "    <tr>\n",
       "      <th>Timmy</th>\n",
       "      <td>70</td>\n",
       "      <td>55</td>\n",
       "      <td>140</td>\n",
       "    </tr>\n",
       "    <tr>\n",
       "      <th>John</th>\n",
       "      <td>96</td>\n",
       "      <td>64</td>\n",
       "      <td>4</td>\n",
       "    </tr>\n",
       "  </tbody>\n",
       "</table>\n",
       "</div>"
      ]
     },
     "execution_count": 46,
     "metadata": {},
     "output_type": "execute_result"
    }
   ],
   "execution_count": 46
  },
  {
   "metadata": {
    "ExecuteTime": {
     "end_time": "2025-04-21T17:05:35.210424400Z",
     "start_time": "2025-04-20T15:54:07.797175Z"
    }
   },
   "cell_type": "code",
   "source": [
    "run = False\n",
    "\n",
    "if run:\n",
    "    data = bryan\n",
    "    print(data)\n",
    "    new_config = Config(data['initial_weight'], data['target_weight'], data['period'])\n",
    "    \n",
    "    evals = 850000\n",
    "    step = 5000\n",
    "    \n",
    "    while evals <= 1000000:\n",
    "        if evals >= 100000:\n",
    "            step = 50000\n",
    "            \n",
    "        for _ in range(5):\n",
    "            new_config.set_total_evaluations(evals)\n",
    "            t.start()\n",
    "            new_m = MapElites(new_config)\n",
    "            new_m.run()\n",
    "            t.stop()\n",
    "            save_results(new_m, new_config, t.result())\n",
    "            \n",
    "            ipd.clear_output(wait=True)\n",
    "        \n",
    "        evals += step"
   ],
   "id": "62aeaafc880ad859",
   "outputs": [],
   "execution_count": 34
  },
  {
   "metadata": {
    "ExecuteTime": {
     "end_time": "2025-04-21T17:05:35.210424400Z",
     "start_time": "2025-04-20T15:54:07.862157Z"
    }
   },
   "cell_type": "code",
   "source": [
    "path = \"./../results/runtime_stats/\"\n",
    "filenames = [f for f in os.listdir(path)if f[-4:] == '.csv']\n",
    "\n",
    "df_dicts = {k:v for k, v in zip(\n",
    "    [int(f.split('_')[0]) for f in filenames],\n",
    "    [pd.read_csv(path + f).mean() for f in filenames]\n",
    ")}\n",
    "\n",
    "means = pd.DataFrame(df_dicts).T.sort_index(ascending=True)\n",
    "means = means[[col for col in means.columns[:6]]]\n",
    "means.rename(columns={\n",
    "    means.columns[0]: 'solutions',\n",
    "    means.columns[1]: 'execution_t'\n",
    "}, inplace=True)\n",
    "idx = means.index\n",
    "print(idx)\n",
    "means.to_csv(f\"./../results/runtime_stats/means/{path[5:-1].replace('/', '-')}.csv\")\n",
    "means"
   ],
   "id": "713d2b707db29d23",
   "outputs": [
    {
     "name": "stdout",
     "output_type": "stream",
     "text": [
      "Index([   5000,   10000,   15000,   20000,   25000,   30000,   35000,   40000,\n",
      "         45000,   50000,   55000,   60000,   65000,   70000,   75000,   80000,\n",
      "         85000,   90000,   95000,  100000,  150000,  200000,  250000,  300000,\n",
      "        350000,  400000,  450000,  500000,  550000,  600000,  650000,  700000,\n",
      "        750000,  800000,  850000,  900000,  950000, 1000000],\n",
      "      dtype='int64')\n"
     ]
    },
    {
     "data": {
      "text/plain": [
       "           solutions  execution_t  fitness_mean  fitness_std  met_mean  \\\n",
       "5000      799.600000        3.066     16.120000       15.206  4.472000   \n",
       "10000    1203.000000        6.872     14.712000       15.186  4.586000   \n",
       "15000    1463.000000       10.126     15.068000       16.036  4.710000   \n",
       "20000    1719.000000       13.206     14.916000       16.148  4.764000   \n",
       "25000    2034.000000       17.354     14.870000       16.330  4.860000   \n",
       "30000    2206.200000       17.842     15.022000       16.626  5.006000   \n",
       "35000    2278.000000       19.652     14.654000       16.584  4.866000   \n",
       "40000    2438.400000       23.228     14.470000       16.592  5.040000   \n",
       "45000    2635.800000       25.170     14.718000       16.726  5.112000   \n",
       "50000    2703.000000       28.438     13.860000       16.396  5.110000   \n",
       "55000    2840.400000       30.736     13.998000       16.594  5.188000   \n",
       "60000    2935.600000       34.108     13.900000       16.508  5.258000   \n",
       "65000    2975.200000       42.388     13.836000       16.532  5.210000   \n",
       "70000    3027.800000       46.976     13.186000       16.286  5.244000   \n",
       "75000    3121.000000       47.276     13.622000       16.584  5.270000   \n",
       "80000    3200.800000       52.558     13.360000       16.490  5.384000   \n",
       "85000    3196.600000       54.982     12.952000       16.354  5.308000   \n",
       "90000    3307.200000       55.118     13.132000       16.556  5.424000   \n",
       "95000    3356.600000       57.816     13.160000       16.536  5.416000   \n",
       "100000   3362.200000       61.124     12.724000       16.388  5.414000   \n",
       "150000   3687.200000       91.172     11.616000       16.016  5.642000   \n",
       "200000   3839.000000      125.532     10.664000       15.464  5.722000   \n",
       "250000   3994.200000      181.076     10.196000       15.382  5.860000   \n",
       "300000   4066.400000      219.766      9.878000       15.300  5.916000   \n",
       "350000   4172.000000      256.972      9.672000       15.200  6.040000   \n",
       "400000   4273.800000      293.024      9.696000       15.310  6.160000   \n",
       "450000   4285.400000      330.376      9.246000       15.046  6.174000   \n",
       "500000   4313.600000      368.514      8.950000       14.960  6.202000   \n",
       "550000   4372.600000      371.034      8.630000       14.698  6.238000   \n",
       "600000   4359.200000      338.578      8.582000       14.720  6.222000   \n",
       "650000   4379.400000      372.980      8.380000       14.714  6.236000   \n",
       "700000   4404.000000      401.364      8.250000       14.544  6.248000   \n",
       "750000   4425.000000      437.272      8.144000       14.530  6.278000   \n",
       "800000   4442.333333      458.570      8.203333       14.610  6.293333   \n",
       "850000   4485.800000      469.208      8.074000       14.564  6.338000   \n",
       "900000   4509.600000      494.990      8.156000       14.652  6.412000   \n",
       "950000   4492.000000      571.922      7.902000       14.436  6.362000   \n",
       "1000000  4484.000000      673.088      7.700000       14.242  6.344000   \n",
       "\n",
       "          met_std  \n",
       "5000     3.970000  \n",
       "10000    4.076000  \n",
       "15000    4.182000  \n",
       "20000    4.224000  \n",
       "25000    4.264000  \n",
       "30000    4.354000  \n",
       "35000    4.318000  \n",
       "40000    4.410000  \n",
       "45000    4.464000  \n",
       "50000    4.400000  \n",
       "55000    4.482000  \n",
       "60000    4.598000  \n",
       "65000    4.502000  \n",
       "70000    4.510000  \n",
       "75000    4.570000  \n",
       "80000    4.632000  \n",
       "85000    4.566000  \n",
       "90000    4.668000  \n",
       "95000    4.650000  \n",
       "100000   4.678000  \n",
       "150000   4.850000  \n",
       "200000   4.916000  \n",
       "250000   5.048000  \n",
       "300000   5.060000  \n",
       "350000   5.158000  \n",
       "400000   5.224000  \n",
       "450000   5.256000  \n",
       "500000   5.230000  \n",
       "550000   5.286000  \n",
       "600000   5.252000  \n",
       "650000   5.306000  \n",
       "700000   5.300000  \n",
       "750000   5.272000  \n",
       "800000   5.293333  \n",
       "850000   5.346000  \n",
       "900000   5.394000  \n",
       "950000   5.368000  \n",
       "1000000  5.354000  "
      ],
      "text/html": [
       "<div>\n",
       "<style scoped>\n",
       "    .dataframe tbody tr th:only-of-type {\n",
       "        vertical-align: middle;\n",
       "    }\n",
       "\n",
       "    .dataframe tbody tr th {\n",
       "        vertical-align: top;\n",
       "    }\n",
       "\n",
       "    .dataframe thead th {\n",
       "        text-align: right;\n",
       "    }\n",
       "</style>\n",
       "<table border=\"1\" class=\"dataframe\">\n",
       "  <thead>\n",
       "    <tr style=\"text-align: right;\">\n",
       "      <th></th>\n",
       "      <th>solutions</th>\n",
       "      <th>execution_t</th>\n",
       "      <th>fitness_mean</th>\n",
       "      <th>fitness_std</th>\n",
       "      <th>met_mean</th>\n",
       "      <th>met_std</th>\n",
       "    </tr>\n",
       "  </thead>\n",
       "  <tbody>\n",
       "    <tr>\n",
       "      <th>5000</th>\n",
       "      <td>799.600000</td>\n",
       "      <td>3.066</td>\n",
       "      <td>16.120000</td>\n",
       "      <td>15.206</td>\n",
       "      <td>4.472000</td>\n",
       "      <td>3.970000</td>\n",
       "    </tr>\n",
       "    <tr>\n",
       "      <th>10000</th>\n",
       "      <td>1203.000000</td>\n",
       "      <td>6.872</td>\n",
       "      <td>14.712000</td>\n",
       "      <td>15.186</td>\n",
       "      <td>4.586000</td>\n",
       "      <td>4.076000</td>\n",
       "    </tr>\n",
       "    <tr>\n",
       "      <th>15000</th>\n",
       "      <td>1463.000000</td>\n",
       "      <td>10.126</td>\n",
       "      <td>15.068000</td>\n",
       "      <td>16.036</td>\n",
       "      <td>4.710000</td>\n",
       "      <td>4.182000</td>\n",
       "    </tr>\n",
       "    <tr>\n",
       "      <th>20000</th>\n",
       "      <td>1719.000000</td>\n",
       "      <td>13.206</td>\n",
       "      <td>14.916000</td>\n",
       "      <td>16.148</td>\n",
       "      <td>4.764000</td>\n",
       "      <td>4.224000</td>\n",
       "    </tr>\n",
       "    <tr>\n",
       "      <th>25000</th>\n",
       "      <td>2034.000000</td>\n",
       "      <td>17.354</td>\n",
       "      <td>14.870000</td>\n",
       "      <td>16.330</td>\n",
       "      <td>4.860000</td>\n",
       "      <td>4.264000</td>\n",
       "    </tr>\n",
       "    <tr>\n",
       "      <th>30000</th>\n",
       "      <td>2206.200000</td>\n",
       "      <td>17.842</td>\n",
       "      <td>15.022000</td>\n",
       "      <td>16.626</td>\n",
       "      <td>5.006000</td>\n",
       "      <td>4.354000</td>\n",
       "    </tr>\n",
       "    <tr>\n",
       "      <th>35000</th>\n",
       "      <td>2278.000000</td>\n",
       "      <td>19.652</td>\n",
       "      <td>14.654000</td>\n",
       "      <td>16.584</td>\n",
       "      <td>4.866000</td>\n",
       "      <td>4.318000</td>\n",
       "    </tr>\n",
       "    <tr>\n",
       "      <th>40000</th>\n",
       "      <td>2438.400000</td>\n",
       "      <td>23.228</td>\n",
       "      <td>14.470000</td>\n",
       "      <td>16.592</td>\n",
       "      <td>5.040000</td>\n",
       "      <td>4.410000</td>\n",
       "    </tr>\n",
       "    <tr>\n",
       "      <th>45000</th>\n",
       "      <td>2635.800000</td>\n",
       "      <td>25.170</td>\n",
       "      <td>14.718000</td>\n",
       "      <td>16.726</td>\n",
       "      <td>5.112000</td>\n",
       "      <td>4.464000</td>\n",
       "    </tr>\n",
       "    <tr>\n",
       "      <th>50000</th>\n",
       "      <td>2703.000000</td>\n",
       "      <td>28.438</td>\n",
       "      <td>13.860000</td>\n",
       "      <td>16.396</td>\n",
       "      <td>5.110000</td>\n",
       "      <td>4.400000</td>\n",
       "    </tr>\n",
       "    <tr>\n",
       "      <th>55000</th>\n",
       "      <td>2840.400000</td>\n",
       "      <td>30.736</td>\n",
       "      <td>13.998000</td>\n",
       "      <td>16.594</td>\n",
       "      <td>5.188000</td>\n",
       "      <td>4.482000</td>\n",
       "    </tr>\n",
       "    <tr>\n",
       "      <th>60000</th>\n",
       "      <td>2935.600000</td>\n",
       "      <td>34.108</td>\n",
       "      <td>13.900000</td>\n",
       "      <td>16.508</td>\n",
       "      <td>5.258000</td>\n",
       "      <td>4.598000</td>\n",
       "    </tr>\n",
       "    <tr>\n",
       "      <th>65000</th>\n",
       "      <td>2975.200000</td>\n",
       "      <td>42.388</td>\n",
       "      <td>13.836000</td>\n",
       "      <td>16.532</td>\n",
       "      <td>5.210000</td>\n",
       "      <td>4.502000</td>\n",
       "    </tr>\n",
       "    <tr>\n",
       "      <th>70000</th>\n",
       "      <td>3027.800000</td>\n",
       "      <td>46.976</td>\n",
       "      <td>13.186000</td>\n",
       "      <td>16.286</td>\n",
       "      <td>5.244000</td>\n",
       "      <td>4.510000</td>\n",
       "    </tr>\n",
       "    <tr>\n",
       "      <th>75000</th>\n",
       "      <td>3121.000000</td>\n",
       "      <td>47.276</td>\n",
       "      <td>13.622000</td>\n",
       "      <td>16.584</td>\n",
       "      <td>5.270000</td>\n",
       "      <td>4.570000</td>\n",
       "    </tr>\n",
       "    <tr>\n",
       "      <th>80000</th>\n",
       "      <td>3200.800000</td>\n",
       "      <td>52.558</td>\n",
       "      <td>13.360000</td>\n",
       "      <td>16.490</td>\n",
       "      <td>5.384000</td>\n",
       "      <td>4.632000</td>\n",
       "    </tr>\n",
       "    <tr>\n",
       "      <th>85000</th>\n",
       "      <td>3196.600000</td>\n",
       "      <td>54.982</td>\n",
       "      <td>12.952000</td>\n",
       "      <td>16.354</td>\n",
       "      <td>5.308000</td>\n",
       "      <td>4.566000</td>\n",
       "    </tr>\n",
       "    <tr>\n",
       "      <th>90000</th>\n",
       "      <td>3307.200000</td>\n",
       "      <td>55.118</td>\n",
       "      <td>13.132000</td>\n",
       "      <td>16.556</td>\n",
       "      <td>5.424000</td>\n",
       "      <td>4.668000</td>\n",
       "    </tr>\n",
       "    <tr>\n",
       "      <th>95000</th>\n",
       "      <td>3356.600000</td>\n",
       "      <td>57.816</td>\n",
       "      <td>13.160000</td>\n",
       "      <td>16.536</td>\n",
       "      <td>5.416000</td>\n",
       "      <td>4.650000</td>\n",
       "    </tr>\n",
       "    <tr>\n",
       "      <th>100000</th>\n",
       "      <td>3362.200000</td>\n",
       "      <td>61.124</td>\n",
       "      <td>12.724000</td>\n",
       "      <td>16.388</td>\n",
       "      <td>5.414000</td>\n",
       "      <td>4.678000</td>\n",
       "    </tr>\n",
       "    <tr>\n",
       "      <th>150000</th>\n",
       "      <td>3687.200000</td>\n",
       "      <td>91.172</td>\n",
       "      <td>11.616000</td>\n",
       "      <td>16.016</td>\n",
       "      <td>5.642000</td>\n",
       "      <td>4.850000</td>\n",
       "    </tr>\n",
       "    <tr>\n",
       "      <th>200000</th>\n",
       "      <td>3839.000000</td>\n",
       "      <td>125.532</td>\n",
       "      <td>10.664000</td>\n",
       "      <td>15.464</td>\n",
       "      <td>5.722000</td>\n",
       "      <td>4.916000</td>\n",
       "    </tr>\n",
       "    <tr>\n",
       "      <th>250000</th>\n",
       "      <td>3994.200000</td>\n",
       "      <td>181.076</td>\n",
       "      <td>10.196000</td>\n",
       "      <td>15.382</td>\n",
       "      <td>5.860000</td>\n",
       "      <td>5.048000</td>\n",
       "    </tr>\n",
       "    <tr>\n",
       "      <th>300000</th>\n",
       "      <td>4066.400000</td>\n",
       "      <td>219.766</td>\n",
       "      <td>9.878000</td>\n",
       "      <td>15.300</td>\n",
       "      <td>5.916000</td>\n",
       "      <td>5.060000</td>\n",
       "    </tr>\n",
       "    <tr>\n",
       "      <th>350000</th>\n",
       "      <td>4172.000000</td>\n",
       "      <td>256.972</td>\n",
       "      <td>9.672000</td>\n",
       "      <td>15.200</td>\n",
       "      <td>6.040000</td>\n",
       "      <td>5.158000</td>\n",
       "    </tr>\n",
       "    <tr>\n",
       "      <th>400000</th>\n",
       "      <td>4273.800000</td>\n",
       "      <td>293.024</td>\n",
       "      <td>9.696000</td>\n",
       "      <td>15.310</td>\n",
       "      <td>6.160000</td>\n",
       "      <td>5.224000</td>\n",
       "    </tr>\n",
       "    <tr>\n",
       "      <th>450000</th>\n",
       "      <td>4285.400000</td>\n",
       "      <td>330.376</td>\n",
       "      <td>9.246000</td>\n",
       "      <td>15.046</td>\n",
       "      <td>6.174000</td>\n",
       "      <td>5.256000</td>\n",
       "    </tr>\n",
       "    <tr>\n",
       "      <th>500000</th>\n",
       "      <td>4313.600000</td>\n",
       "      <td>368.514</td>\n",
       "      <td>8.950000</td>\n",
       "      <td>14.960</td>\n",
       "      <td>6.202000</td>\n",
       "      <td>5.230000</td>\n",
       "    </tr>\n",
       "    <tr>\n",
       "      <th>550000</th>\n",
       "      <td>4372.600000</td>\n",
       "      <td>371.034</td>\n",
       "      <td>8.630000</td>\n",
       "      <td>14.698</td>\n",
       "      <td>6.238000</td>\n",
       "      <td>5.286000</td>\n",
       "    </tr>\n",
       "    <tr>\n",
       "      <th>600000</th>\n",
       "      <td>4359.200000</td>\n",
       "      <td>338.578</td>\n",
       "      <td>8.582000</td>\n",
       "      <td>14.720</td>\n",
       "      <td>6.222000</td>\n",
       "      <td>5.252000</td>\n",
       "    </tr>\n",
       "    <tr>\n",
       "      <th>650000</th>\n",
       "      <td>4379.400000</td>\n",
       "      <td>372.980</td>\n",
       "      <td>8.380000</td>\n",
       "      <td>14.714</td>\n",
       "      <td>6.236000</td>\n",
       "      <td>5.306000</td>\n",
       "    </tr>\n",
       "    <tr>\n",
       "      <th>700000</th>\n",
       "      <td>4404.000000</td>\n",
       "      <td>401.364</td>\n",
       "      <td>8.250000</td>\n",
       "      <td>14.544</td>\n",
       "      <td>6.248000</td>\n",
       "      <td>5.300000</td>\n",
       "    </tr>\n",
       "    <tr>\n",
       "      <th>750000</th>\n",
       "      <td>4425.000000</td>\n",
       "      <td>437.272</td>\n",
       "      <td>8.144000</td>\n",
       "      <td>14.530</td>\n",
       "      <td>6.278000</td>\n",
       "      <td>5.272000</td>\n",
       "    </tr>\n",
       "    <tr>\n",
       "      <th>800000</th>\n",
       "      <td>4442.333333</td>\n",
       "      <td>458.570</td>\n",
       "      <td>8.203333</td>\n",
       "      <td>14.610</td>\n",
       "      <td>6.293333</td>\n",
       "      <td>5.293333</td>\n",
       "    </tr>\n",
       "    <tr>\n",
       "      <th>850000</th>\n",
       "      <td>4485.800000</td>\n",
       "      <td>469.208</td>\n",
       "      <td>8.074000</td>\n",
       "      <td>14.564</td>\n",
       "      <td>6.338000</td>\n",
       "      <td>5.346000</td>\n",
       "    </tr>\n",
       "    <tr>\n",
       "      <th>900000</th>\n",
       "      <td>4509.600000</td>\n",
       "      <td>494.990</td>\n",
       "      <td>8.156000</td>\n",
       "      <td>14.652</td>\n",
       "      <td>6.412000</td>\n",
       "      <td>5.394000</td>\n",
       "    </tr>\n",
       "    <tr>\n",
       "      <th>950000</th>\n",
       "      <td>4492.000000</td>\n",
       "      <td>571.922</td>\n",
       "      <td>7.902000</td>\n",
       "      <td>14.436</td>\n",
       "      <td>6.362000</td>\n",
       "      <td>5.368000</td>\n",
       "    </tr>\n",
       "    <tr>\n",
       "      <th>1000000</th>\n",
       "      <td>4484.000000</td>\n",
       "      <td>673.088</td>\n",
       "      <td>7.700000</td>\n",
       "      <td>14.242</td>\n",
       "      <td>6.344000</td>\n",
       "      <td>5.354000</td>\n",
       "    </tr>\n",
       "  </tbody>\n",
       "</table>\n",
       "</div>"
      ]
     },
     "execution_count": 35,
     "metadata": {},
     "output_type": "execute_result"
    }
   ],
   "execution_count": 35
  },
  {
   "metadata": {
    "ExecuteTime": {
     "end_time": "2025-04-21T17:05:35.210424400Z",
     "start_time": "2025-04-20T15:54:08.255824Z"
    }
   },
   "cell_type": "code",
   "source": [
    "path = \"./../results/runtime_stats/\"\n",
    "# path = \"./../results/runtime_stats/old/\"\n",
    "filenames = [f for f in os.listdir(path)if f[-4:] == '.csv']\n",
    "df_dicts = {k:v for k, v in zip(\n",
    "    [int(f.split('_')[0]) for f in filenames],\n",
    "    [pd.read_csv(path + f).mean() for f in filenames]\n",
    ")}\n",
    "means = pd.DataFrame(df_dicts).T.sort_index(ascending=True)\n",
    "means = means[[col for col in means.columns[:6]]]\n",
    "means.rename(columns={\n",
    "    means.columns[0]: 'solutions',\n",
    "    means.columns[1]: 'execution_t'\n",
    "}, inplace=True)\n",
    "idx = means.index\n",
    "print(idx)\n",
    "means.to_csv(f\"./../results/runtime_stats/means/{path[5:-1].replace('/', '-')}.csv\")\n",
    "\n",
    "path = \"./../results/runtime_stats/means/\"\n",
    "filenames = os.listdir(path)\n",
    "\n",
    "dfs = [pd.read_csv(path+f, index_col=0) for f in filenames]\n",
    "df0, df1 = dfs[0], dfs[1][dfs[1].index <= 1000000]\n",
    "\n",
    "# --- 1. Execution Time ---\n",
    "fig1, axes1 = plt.subplots(ncols=2, figsize=(10, 3))\n",
    "axes1[0].plot(df0.index, df0.execution_t)\n",
    "axes1[1].plot(df1.index, df1.execution_t)\n",
    "axes1[0].set_ylabel(\"Time in Seconds\")\n",
    "fig1.tight_layout()\n",
    "\n",
    "# --- 2. Solutions Found ---\n",
    "fig2, axes2 = plt.subplots(ncols=2, figsize=(10, 3), sharey=True)\n",
    "axes2[0].plot(df0.index, df0.solutions)\n",
    "axes2[1].plot(df1.index, df1.solutions, label=\"New Solutions\")\n",
    "axes2[0].set_ylabel(\"Solutions Found\")\n",
    "fig2.tight_layout()\n",
    "\n",
    "# --- 3. Fitness Scores ---\n",
    "fig3, axes3 = plt.subplots(ncols=2, figsize=(10, 3), sharey=True)\n",
    "axes3[0].plot(df0.index, df0.fitness_mean)\n",
    "axes3[0].plot(df0.index, df0.fitness_std)\n",
    "axes3[1].plot(df1.index, df1.fitness_mean, label=\"Mean\")\n",
    "axes3[1].plot(df1.index, df1.fitness_std,label=\"Standard Deviation\")\n",
    "axes3[0].set_ylabel(\"Fitness Score\")\n",
    "axes3[1].legend()\n",
    "fig3.tight_layout()\n",
    "\n",
    "# --- 4. MET Values ---\n",
    "fig4, axes4 = plt.subplots(ncols=2, figsize=(10, 3), sharey=True)\n",
    "axes4[0].plot(df0.index, df0.met_mean, label=\"Old MET Mean\")\n",
    "axes4[0].plot(df0.index, df0.met_std, label=\"Old MET Std Dev\")\n",
    "axes4[1].plot(df1.index, df1.met_mean, label=\"New MET Mean\")\n",
    "axes4[1].plot(df1.index, df1.met_std, label=\"New MET Std Dev\")\n",
    "axes4[0].set_ylabel(\"MET Value\")\n",
    "fig4.tight_layout()"
   ],
   "id": "461622c8fcd4e33",
   "outputs": [
    {
     "name": "stdout",
     "output_type": "stream",
     "text": [
      "Index([   5000,   10000,   15000,   20000,   25000,   30000,   35000,   40000,\n",
      "         45000,   50000,   55000,   60000,   65000,   70000,   75000,   80000,\n",
      "         85000,   90000,   95000,  100000,  150000,  200000,  250000,  300000,\n",
      "        350000,  400000,  450000,  500000,  550000,  600000,  650000,  700000,\n",
      "        750000,  800000,  850000,  900000,  950000, 1000000],\n",
      "      dtype='int64')\n"
     ]
    },
    {
     "data": {
      "text/plain": [
       "<Figure size 1000x300 with 2 Axes>"
      ],
      "image/png": "[encoded data removed]"
     },
     "metadata": {},
     "output_type": "display_data"
    },
    {
     "data": {
      "text/plain": [
       "<Figure size 1000x300 with 2 Axes>"
      ],
      "image/png": "[encoded data removed]"
     },
     "metadata": {},
     "output_type": "display_data"
    },
    {
     "data": {
      "text/plain": [
       "<Figure size 1000x300 with 2 Axes>"
      ],
      "image/png": "[encoded data removed]"
     },
     "metadata": {},
     "output_type": "display_data"
    },
    {
     "data": {
      "text/plain": [
       "<Figure size 1000x300 with 2 Axes>"
      ],
      "image/png": "[encoded data removed]"
     },
     "metadata": {},
     "output_type": "display_data"
    }
   ],
   "execution_count": 36
  },
  {
   "metadata": {
    "ExecuteTime": {
     "end_time": "2025-04-21T17:05:35.210424400Z",
     "start_time": "2025-04-20T15:54:08.810525Z"
    }
   },
   "cell_type": "code",
   "source": [
    "fig1.savefig(path + f\"./../figures/exec_time.png\")\n",
    "fig2.savefig(path + f\"./../figures/sols_found.png\")\n",
    "fig3.savefig(path + f\"./../figures/fitness.png\")\n",
    "fig4.savefig(path + f\"./../figures/met_vals.png\")"
   ],
   "id": "ef858a5ba21653a4",
   "outputs": [],
   "execution_count": 37
  }
 ],
 "metadata": {
  "kernelspec": {
   "display_name": "Python 3",
   "language": "python",
   "name": "python3"
  },
  "language_info": {
   "codemirror_mode": {
    "name": "ipython",
    "version": 2
   },
   "file_extension": ".py",
   "mimetype": "text/x-python",
   "name": "python",
   "nbconvert_exporter": "python",
   "pygments_lexer": "ipython2",
   "version": "2.7.6"
  }
 },
 "nbformat": 4,
 "nbformat_minor": 5
}
